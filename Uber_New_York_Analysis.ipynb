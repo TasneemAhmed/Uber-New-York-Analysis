{
  "nbformat": 4,
  "nbformat_minor": 0,
  "metadata": {
    "colab": {
      "name": "Uber New York Analysis.ipynb",
      "provenance": [],
      "authorship_tag": "ABX9TyNiuSUBIZNtKoEIX0fAHV49",
      "include_colab_link": true
    },
    "kernelspec": {
      "name": "python3",
      "display_name": "Python 3"
    },
    "language_info": {
      "name": "python"
    }
  },
  "cells": [
    {
      "cell_type": "markdown",
      "metadata": {
        "id": "view-in-github",
        "colab_type": "text"
      },
      "source": [
        "<a href=\"https://colab.research.google.com/github/TasneemAhmed/Uber-New-York-Analysis/blob/main/Uber_New_York_Analysis.ipynb\" target=\"_parent\"><img src=\"https://colab.research.google.com/assets/colab-badge.svg\" alt=\"Open In Colab\"/></a>"
      ]
    },
    {
      "cell_type": "markdown",
      "metadata": {
        "id": "G7KQA0FUJwIx"
      },
      "source": [
        "# **1. Collect Data for Analysis**"
      ]
    },
    {
      "cell_type": "code",
      "metadata": {
        "id": "IjIIJ-xCyTOa"
      },
      "source": [
        "!pip install chart_studio"
      ],
      "execution_count": null,
      "outputs": []
    },
    {
      "cell_type": "code",
      "metadata": {
        "id": "GGihaZcLxOzi"
      },
      "source": [
        "!pip install folium"
      ],
      "execution_count": null,
      "outputs": []
    },
    {
      "cell_type": "code",
      "metadata": {
        "id": "Poz5UfkUxVQI"
      },
      "source": [
        "from folium.plugins import HeatMap"
      ],
      "execution_count": 1,
      "outputs": []
    },
    {
      "cell_type": "code",
      "metadata": {
        "id": "PADx8EAvxss5"
      },
      "source": [
        "import folium"
      ],
      "execution_count": 2,
      "outputs": []
    },
    {
      "cell_type": "code",
      "metadata": {
        "id": "lP_osVvoEgsF"
      },
      "source": [
        "import os\n",
        "import csv"
      ],
      "execution_count": 3,
      "outputs": []
    },
    {
      "cell_type": "code",
      "metadata": {
        "id": "VH_owriO9sIj"
      },
      "source": [
        "# Libraries for handling numeric computation and dataframes\n",
        "import pandas as pd\n",
        "import numpy as np\n",
        "# Libraries for statistical plotting\n",
        "import matplotlib.pyplot as plt\n",
        "import seaborn as sns\n",
        "import plotly.express as px"
      ],
      "execution_count": 4,
      "outputs": []
    },
    {
      "cell_type": "code",
      "metadata": {
        "id": "A5cjrObDvwdU"
      },
      "source": [
        "import chart_studio.plotly as py\n",
        "import plotly.graph_objs as go\n",
        "from plotly.offline import download_plotlyjs, init_notebook_mode, plot, iplot"
      ],
      "execution_count": 5,
      "outputs": []
    },
    {
      "cell_type": "code",
      "metadata": {
        "colab": {
          "base_uri": "https://localhost:8080/"
        },
        "id": "atL1vrDgT-s2",
        "outputId": "cc27e3b8-737d-4d20-8e87-8164deee1a6e"
      },
      "source": [
        "from google.colab import drive\n",
        "drive.mount('/content/gdrive')"
      ],
      "execution_count": 6,
      "outputs": [
        {
          "output_type": "stream",
          "name": "stdout",
          "text": [
            "Drive already mounted at /content/gdrive; to attempt to forcibly remount, call drive.mount(\"/content/gdrive\", force_remount=True).\n"
          ]
        }
      ]
    },
    {
      "cell_type": "code",
      "metadata": {
        "colab": {
          "base_uri": "https://localhost:8080/"
        },
        "id": "QTe2hvcrBXwl",
        "outputId": "1d47b445-405d-4c42-a4a5-c9f10432e49f"
      },
      "source": [
        "#os.listdir(): is a built-in Python method that lists the files in the current working directory\n",
        "absolute_path = r\"/content/gdrive/MyDrive/uber_pickups_in_NewYork_city\"\n",
        "os.chdir(absolute_path)\n",
        "\n",
        "files = os.listdir(absolute_path)\n",
        "files"
      ],
      "execution_count": 7,
      "outputs": [
        {
          "output_type": "execute_result",
          "data": {
            "text/plain": [
              "['uber-raw-data-apr14.csv',\n",
              " 'uber-raw-data-aug14.csv',\n",
              " 'uber-raw-data-jun14.csv',\n",
              " 'uber-raw-data-may14.csv',\n",
              " 'uber-raw-data-sep14.csv',\n",
              " 'uber-raw-data-jul14.csv',\n",
              " 'uber-raw-data-janjune-15.csv']"
            ]
          },
          "metadata": {},
          "execution_count": 7
        }
      ]
    },
    {
      "cell_type": "code",
      "metadata": {
        "id": "k8GS44HUhyNu",
        "colab": {
          "base_uri": "https://localhost:8080/"
        },
        "outputId": "549ca14f-d2ad-4429-e50e-21b390d976b6"
      },
      "source": [
        "#create blank dataframe\n",
        "final = pd.DataFrame()\n",
        "#concat all files into one dataframe(concat like Union in SQL)\n",
        "for file in files:\n",
        "  file_link = absolute_path + \"/\"  + file\n",
        "  with open(file_link) as file:\n",
        "    print(file)\n",
        "    csv_reader = csv.DictReader(file)\n",
        "    df = pd.DataFrame(data=csv_reader)\n",
        "    final = pd.concat([df,final])"
      ],
      "execution_count": null,
      "outputs": [
        {
          "output_type": "stream",
          "name": "stdout",
          "text": [
            "<_io.TextIOWrapper name='/content/gdrive/MyDrive/uber_pickups_in_NewYork_city/uber-raw-data-apr14.csv' mode='r' encoding='UTF-8'>\n",
            "<_io.TextIOWrapper name='/content/gdrive/MyDrive/uber_pickups_in_NewYork_city/uber-raw-data-aug14.csv' mode='r' encoding='UTF-8'>\n",
            "<_io.TextIOWrapper name='/content/gdrive/MyDrive/uber_pickups_in_NewYork_city/uber-raw-data-jun14.csv' mode='r' encoding='UTF-8'>\n",
            "<_io.TextIOWrapper name='/content/gdrive/MyDrive/uber_pickups_in_NewYork_city/uber-raw-data-may14.csv' mode='r' encoding='UTF-8'>\n",
            "<_io.TextIOWrapper name='/content/gdrive/MyDrive/uber_pickups_in_NewYork_city/uber-raw-data-sep14.csv' mode='r' encoding='UTF-8'>\n",
            "<_io.TextIOWrapper name='/content/gdrive/MyDrive/uber_pickups_in_NewYork_city/uber-raw-data-jul14.csv' mode='r' encoding='UTF-8'>\n",
            "<_io.TextIOWrapper name='/content/gdrive/MyDrive/uber_pickups_in_NewYork_city/uber-raw-data-janjune-15.csv' mode='r' encoding='UTF-8'>\n"
          ]
        }
      ]
    },
    {
      "cell_type": "code",
      "metadata": {
        "id": "7fh5NNwXig1J"
      },
      "source": [
        "final.shape"
      ],
      "execution_count": null,
      "outputs": []
    },
    {
      "cell_type": "markdown",
      "metadata": {
        "id": "qtl0LOVHKwuK"
      },
      "source": [
        "# **2. Data preperation for Analysis**"
      ]
    },
    {
      "cell_type": "code",
      "metadata": {
        "id": "C0TPtnIYK4gh"
      },
      "source": [
        "df = final.copy()\n",
        "df"
      ],
      "execution_count": null,
      "outputs": []
    },
    {
      "cell_type": "code",
      "metadata": {
        "id": "oXcUYklGLjWD"
      },
      "source": [
        "#check data types for dataframe\n",
        "df.dtypes"
      ],
      "execution_count": null,
      "outputs": []
    },
    {
      "cell_type": "code",
      "metadata": {
        "id": "lLyuJSVwLwkU"
      },
      "source": [
        "#convert 'Date/Time/ col from object into datetime datatype\n",
        "df['Date/Time'] = pd.to_datetime(df['Date/Time'])\n",
        "df.dtypes"
      ],
      "execution_count": null,
      "outputs": []
    },
    {
      "cell_type": "code",
      "metadata": {
        "id": "1q4DGe2LPDNF"
      },
      "source": [
        "#extract month, day_name, day, hour, and minute from 'Date/Time' \n",
        "df['month'] = df['Date/Time'].dt.month\n",
        "df['weekday'] = df['Date/Time'].dt.day_name()\n",
        "df['day'] = df['Date/Time'].dt.day\n",
        "df['hour'] = df['Date/Time'].dt.hour\n",
        "df['minute'] = df['Date/Time'].dt.minute\n",
        "\n",
        "df\n",
        "#df.dtypes"
      ],
      "execution_count": null,
      "outputs": []
    },
    {
      "cell_type": "markdown",
      "metadata": {
        "id": "_3Enm0ROc1xy"
      },
      "source": [
        "# **3.1 Analysis of Journey by Weekdays**"
      ]
    },
    {
      "cell_type": "code",
      "metadata": {
        "id": "4VIiy1sddRla"
      },
      "source": [
        "df['weekday'].value_counts()"
      ],
      "execution_count": null,
      "outputs": []
    },
    {
      "cell_type": "code",
      "metadata": {
        "id": "_L_OzJxDdlD-"
      },
      "source": [
        "df['weekday'].value_counts().index"
      ],
      "execution_count": null,
      "outputs": []
    },
    {
      "cell_type": "code",
      "metadata": {
        "id": "RZkfS2MLdCT1"
      },
      "source": [
        "px.bar(x = df['weekday'].value_counts().index,\n",
        "       y = df['weekday'].value_counts())"
      ],
      "execution_count": null,
      "outputs": []
    },
    {
      "cell_type": "markdown",
      "metadata": {
        "id": "tSt12WgnfgtN"
      },
      "source": [
        "# **3.2 Analysis of Journey by Month**"
      ]
    },
    {
      "cell_type": "code",
      "metadata": {
        "id": "SDZaT7aNeTzs"
      },
      "source": [
        "#get unique months (April, May, June, September, Nonember, July)\n",
        "df['month'].unique()"
      ],
      "execution_count": null,
      "outputs": []
    },
    {
      "cell_type": "code",
      "metadata": {
        "id": "HvMwfW5IiuI7"
      },
      "source": [
        "for index,month in enumerate(df['month'].unique()):\n",
        "  print(index, month)"
      ],
      "execution_count": null,
      "outputs": []
    },
    {
      "cell_type": "code",
      "metadata": {
        "id": "gndrWsiSlc7i"
      },
      "source": [
        "#we want for every month, every hour make histogram chart\n",
        "plt.figure(figsize=(40,20))\n",
        "for index,month in enumerate(df['month'].unique()):\n",
        "  plt.subplot(3,2,index+1)\n",
        "  df[df['month'] == month]['hour'].hist()"
      ],
      "execution_count": null,
      "outputs": []
    },
    {
      "cell_type": "markdown",
      "metadata": {
        "id": "9pnRZUp5wpU2"
      },
      "source": [
        "# **3.3 Which month has the maximum rides**"
      ]
    },
    {
      "cell_type": "code",
      "metadata": {
        "id": "1qg7AYTQwodr"
      },
      "source": [
        "df.groupby('month').count()"
      ],
      "execution_count": null,
      "outputs": []
    },
    {
      "cell_type": "code",
      "metadata": {
        "id": "ZP6wLuaxxa-L"
      },
      "source": [
        "#count values grouping by month\n",
        "df.groupby('month')['hour'].count()"
      ],
      "execution_count": null,
      "outputs": []
    },
    {
      "cell_type": "code",
      "metadata": {
        "id": "gOvyyzyvzlCN"
      },
      "source": [
        "df.groupby('month')['hour'].count().index"
      ],
      "execution_count": null,
      "outputs": []
    },
    {
      "cell_type": "code",
      "metadata": {
        "id": "GbJunKlGyeaI"
      },
      "source": [
        "trace_1 = go.Bar(\n",
        "    x = df.groupby('month')['hour'].count().index,\n",
        "    y = df.groupby('month')['hour'].count()\n",
        ")"
      ],
      "execution_count": null,
      "outputs": []
    },
    {
      "cell_type": "code",
      "metadata": {
        "id": "LbqEjoYxzcAu"
      },
      "source": [
        "iplot([trace_1])"
      ],
      "execution_count": null,
      "outputs": []
    },
    {
      "cell_type": "markdown",
      "metadata": {
        "id": "O4cWQtzJz5Yy"
      },
      "source": [
        "# **3.4 Analysis of Journeies for each day in Month**"
      ]
    },
    {
      "cell_type": "code",
      "metadata": {
        "id": "VqkYar5K2r1Q"
      },
      "source": [
        "df['day'].value_counts()"
      ],
      "execution_count": null,
      "outputs": []
    },
    {
      "cell_type": "code",
      "metadata": {
        "id": "8gzJqwo61-L5"
      },
      "source": [
        "#use seaborn viz\n",
        "sns.distplot(df['day'])"
      ],
      "execution_count": null,
      "outputs": []
    },
    {
      "cell_type": "code",
      "metadata": {
        "id": "fXaBXGHy0FVi"
      },
      "source": [
        "plt.figure(figsize=(10,8))\n",
        "plt.hist(df['day'], bins=30, rwidth= .8, range=(.5,30.5))\n",
        "plt.xlabel('Day of month')\n",
        "plt.ylabel('Total journies')\n",
        "plt.title('Journies by Month Day')"
      ],
      "execution_count": null,
      "outputs": []
    },
    {
      "cell_type": "markdown",
      "metadata": {
        "id": "5BQhj3rmY2Eg"
      },
      "source": [
        "# **3.5 Total rides for each month**"
      ]
    },
    {
      "cell_type": "code",
      "metadata": {
        "id": "uEWjL0HnZHoJ"
      },
      "source": [
        "df.groupby('month')['day'].count()"
      ],
      "execution_count": null,
      "outputs": []
    },
    {
      "cell_type": "code",
      "metadata": {
        "id": "CZ7g_XpWbTP8"
      },
      "source": [
        "plt.figure(figsize=(20,8))\n",
        "for index,month in enumerate(df['month'].unique(), 1):\n",
        "  plt.subplot(3,2,index)\n",
        "  df_out = df[df['month']==month]\n",
        "  plt.hist(df_out['day'])\n",
        "  plt.xlabel('Days of Month')\n",
        "  plt.ylabel('Total Rides')"
      ],
      "execution_count": null,
      "outputs": []
    },
    {
      "cell_type": "markdown",
      "metadata": {
        "id": "38KaFqP1ZAo-"
      },
      "source": [
        "# **3.6 Analyse Russh in Hour / latitude**"
      ]
    },
    {
      "cell_type": "code",
      "metadata": {
        "id": "W1iJSSUXdoiO"
      },
      "source": [
        "plt.figure(figsize=(20,8))\n",
        "xs = sns.pointplot(x='hour', y='Lat', data=df)\n",
        "xs.set_title('Hours of each Weekday Vs Latitude of Passangers')"
      ],
      "execution_count": null,
      "outputs": []
    },
    {
      "cell_type": "markdown",
      "metadata": {
        "id": "37c267Gil8Uh"
      },
      "source": [
        "# **3.7 Show group by (base numbers ) for  each month (group by month)**"
      ]
    },
    {
      "cell_type": "code",
      "metadata": {
        "id": "tQY7AgKImQ8N"
      },
      "source": [
        "base = df.groupby(['Base', 'month'])['Date/Time'].count().reset_index()\n",
        "base"
      ],
      "execution_count": null,
      "outputs": []
    },
    {
      "cell_type": "code",
      "metadata": {
        "id": "z6gvGwYEizYe"
      },
      "source": [
        "plt.figure(figsize=(10,6))\n",
        "sns.lineplot(x='month', y='Date/Time', hue='Base', data=base)"
      ],
      "execution_count": null,
      "outputs": []
    },
    {
      "cell_type": "markdown",
      "metadata": {
        "id": "zv0AAnLZjlfn"
      },
      "source": [
        "# **3.8 Cross Analysis using Heatmap**\n",
        "\n",
        "\n",
        "1.   Heatmap by hour & weekday\n",
        "2.   Heatmap by hour & day\n",
        "3.   Heatmap by month & day\n",
        "4.   Heatmap by month & weekday\n",
        "\n",
        "\n",
        "\n"
      ]
    },
    {
      "cell_type": "code",
      "metadata": {
        "id": "fBF4z06ElOIv"
      },
      "source": [
        "def count_rows(rows):\n",
        "  return len(rows)"
      ],
      "execution_count": null,
      "outputs": []
    },
    {
      "cell_type": "code",
      "metadata": {
        "id": "dm6sv4lMlUJm"
      },
      "source": [
        "grouping_data  = df.groupby(['month', 'weekday']).apply(count_rows)"
      ],
      "execution_count": null,
      "outputs": []
    },
    {
      "cell_type": "code",
      "metadata": {
        "id": "O6UuKi-Tl9CS"
      },
      "source": [
        "pivoit = grouping_data.unstack()\n",
        "pivoit"
      ],
      "execution_count": null,
      "outputs": []
    },
    {
      "cell_type": "code",
      "metadata": {
        "id": "fFQJNKuNmP7a"
      },
      "source": [
        "sns.heatmap(pivoit)"
      ],
      "execution_count": null,
      "outputs": []
    },
    {
      "cell_type": "code",
      "metadata": {
        "id": "mezgMafzkTCz"
      },
      "source": [
        "def heatmap(col1, col2):\n",
        "  plt.figure(figsize=(10,6))\n",
        "  grouping_data = df.groupby([col1, col2])['Date/Time'].count()\n",
        "  pivioting_data = grouping_data.unstack()\n",
        "  return sns.heatmap(pivioting_data)"
      ],
      "execution_count": null,
      "outputs": []
    },
    {
      "cell_type": "code",
      "metadata": {
        "id": "-RE0v3CpmoYw"
      },
      "source": [
        "# Heatmap by month & weeekday\n",
        "heatmap('month', 'weekday')"
      ],
      "execution_count": null,
      "outputs": []
    },
    {
      "cell_type": "code",
      "metadata": {
        "id": "-6sjzxG0n40R"
      },
      "source": [
        "# Heatmap by weekday & hour\n",
        "heatmap('weekday', 'hour')"
      ],
      "execution_count": null,
      "outputs": []
    },
    {
      "cell_type": "code",
      "metadata": {
        "id": "WgLfliyppKEM"
      },
      "source": [
        "#Heatmap by hour & weekday\n",
        "heatmap('hour', 'weekday')"
      ],
      "execution_count": null,
      "outputs": []
    },
    {
      "cell_type": "markdown",
      "metadata": {
        "id": "DSjeAxVCA4bn"
      },
      "source": [
        "# **3.9 Analysis of location data ponit (show densithy through langtitude & latitude toghether)**"
      ]
    },
    {
      "cell_type": "code",
      "metadata": {
        "id": "yt-QSsuIBUn8"
      },
      "source": [
        "plt.figure(figsize=(12,6))\n",
        "plt.plot(df['Lon'], df['Lat'], 'r+', ms = 0.5)\n",
        "#plt.xlim(-74.2, -73.7)\n",
        "#plt.ylim(40.6, 41)\n",
        "#plt.xlabel('Longatitude')\n",
        "#plt.ylabel('Latitude')"
      ],
      "execution_count": null,
      "outputs": []
    },
    {
      "cell_type": "markdown",
      "metadata": {
        "id": "OHxC4F2xeofd"
      },
      "source": [
        "# **3.10 Perform spatial analysis using Heatmap to show the Rush**"
      ]
    },
    {
      "cell_type": "code",
      "metadata": {
        "id": "QQTGvUOTx-Y9"
      },
      "source": [
        "df_out = df[df['weekday'] == 'Monday']\n",
        "df_out"
      ],
      "execution_count": null,
      "outputs": []
    },
    {
      "cell_type": "code",
      "metadata": {
        "id": "Q2q41uSEyaBt"
      },
      "source": [
        "rush = df_out.groupby(['Lat','Lon'])['weekday'].count().reset_index()\n",
        "#change columns names\n",
        "rush.columns = ['Latitude','Longtitude','Number of Trips'] \n",
        "rush"
      ],
      "execution_count": null,
      "outputs": []
    },
    {
      "cell_type": "code",
      "metadata": {
        "id": "X5na_LaVgc0-"
      },
      "source": [
        "basemap = folium.Map()\n",
        "basemap"
      ],
      "execution_count": null,
      "outputs": []
    },
    {
      "cell_type": "code",
      "metadata": {
        "id": "TQN1hdQvx3Zv"
      },
      "source": [
        "HeatMap(rush).add_to(basemap)\n",
        "basemap"
      ],
      "execution_count": null,
      "outputs": []
    },
    {
      "cell_type": "markdown",
      "metadata": {
        "id": "467xtwdK2EX1"
      },
      "source": [
        "**Automate the solution**"
      ]
    },
    {
      "cell_type": "code",
      "metadata": {
        "id": "WkSABrU-2IZf"
      },
      "source": [
        "#1. filter in specific day, 2. group by 'lat' & 'lon' & count values, 3. Create map\n",
        "def plot(day):\n",
        "  basemap = folium.Map()\n",
        "  df_out = df[df['weekday'] == day]\n",
        "  weekday_rush = df_out.groupby(['Lat','Lon'])['weekday'].count().reset_index()\n",
        "  HeatMap(weekday_rush).add_to(basemap)"
      ],
      "execution_count": null,
      "outputs": []
    },
    {
      "cell_type": "code",
      "metadata": {
        "id": "PuxVLs-73YsX"
      },
      "source": [
        "plot('Saturday')"
      ],
      "execution_count": null,
      "outputs": []
    },
    {
      "cell_type": "markdown",
      "metadata": {
        "id": "PjaDlcauLxue"
      },
      "source": [
        "# **4. Preprocess & Analysis 'uber-raw-data-janjune-15.csv' file**"
      ]
    },
    {
      "cell_type": "code",
      "metadata": {
        "id": "scpxKX7JHmIi",
        "colab": {
          "base_uri": "https://localhost:8080/",
          "height": 206
        },
        "outputId": "471cc411-122f-4d30-b370-d39730c3b3fe"
      },
      "source": [
        "#1. Collect Data\n",
        "uber_janune_15_file = pd.read_csv(absolute_path + \"/\"  + 'uber-raw-data-janjune-15.csv')\n",
        "uber_janune_15_file.head()"
      ],
      "execution_count": 33,
      "outputs": [
        {
          "output_type": "execute_result",
          "data": {
            "text/html": [
              "<div>\n",
              "<style scoped>\n",
              "    .dataframe tbody tr th:only-of-type {\n",
              "        vertical-align: middle;\n",
              "    }\n",
              "\n",
              "    .dataframe tbody tr th {\n",
              "        vertical-align: top;\n",
              "    }\n",
              "\n",
              "    .dataframe thead th {\n",
              "        text-align: right;\n",
              "    }\n",
              "</style>\n",
              "<table border=\"1\" class=\"dataframe\">\n",
              "  <thead>\n",
              "    <tr style=\"text-align: right;\">\n",
              "      <th></th>\n",
              "      <th>Dispatching_base_num</th>\n",
              "      <th>Pickup_date</th>\n",
              "      <th>Affiliated_base_num</th>\n",
              "      <th>locationID</th>\n",
              "    </tr>\n",
              "  </thead>\n",
              "  <tbody>\n",
              "    <tr>\n",
              "      <th>0</th>\n",
              "      <td>B02617</td>\n",
              "      <td>2015-05-17 09:47:00</td>\n",
              "      <td>B02617</td>\n",
              "      <td>141</td>\n",
              "    </tr>\n",
              "    <tr>\n",
              "      <th>1</th>\n",
              "      <td>B02617</td>\n",
              "      <td>2015-05-17 09:47:00</td>\n",
              "      <td>B02617</td>\n",
              "      <td>65</td>\n",
              "    </tr>\n",
              "    <tr>\n",
              "      <th>2</th>\n",
              "      <td>B02617</td>\n",
              "      <td>2015-05-17 09:47:00</td>\n",
              "      <td>B02617</td>\n",
              "      <td>100</td>\n",
              "    </tr>\n",
              "    <tr>\n",
              "      <th>3</th>\n",
              "      <td>B02617</td>\n",
              "      <td>2015-05-17 09:47:00</td>\n",
              "      <td>B02774</td>\n",
              "      <td>80</td>\n",
              "    </tr>\n",
              "    <tr>\n",
              "      <th>4</th>\n",
              "      <td>B02617</td>\n",
              "      <td>2015-05-17 09:47:00</td>\n",
              "      <td>B02617</td>\n",
              "      <td>90</td>\n",
              "    </tr>\n",
              "  </tbody>\n",
              "</table>\n",
              "</div>"
            ],
            "text/plain": [
              "  Dispatching_base_num          Pickup_date Affiliated_base_num  locationID\n",
              "0               B02617  2015-05-17 09:47:00              B02617         141\n",
              "1               B02617  2015-05-17 09:47:00              B02617          65\n",
              "2               B02617  2015-05-17 09:47:00              B02617         100\n",
              "3               B02617  2015-05-17 09:47:00              B02774          80\n",
              "4               B02617  2015-05-17 09:47:00              B02617          90"
            ]
          },
          "metadata": {},
          "execution_count": 33
        }
      ]
    },
    {
      "cell_type": "code",
      "metadata": {
        "id": "jiHivfa-Nhv-",
        "colab": {
          "base_uri": "https://localhost:8080/",
          "height": 423
        },
        "outputId": "26c3920b-39be-42cc-b29b-df03a04bb9ae"
      },
      "source": [
        "uber_df = uber_janune_15_file.copy()\n",
        "uber_df"
      ],
      "execution_count": 9,
      "outputs": [
        {
          "output_type": "execute_result",
          "data": {
            "text/html": [
              "<div>\n",
              "<style scoped>\n",
              "    .dataframe tbody tr th:only-of-type {\n",
              "        vertical-align: middle;\n",
              "    }\n",
              "\n",
              "    .dataframe tbody tr th {\n",
              "        vertical-align: top;\n",
              "    }\n",
              "\n",
              "    .dataframe thead th {\n",
              "        text-align: right;\n",
              "    }\n",
              "</style>\n",
              "<table border=\"1\" class=\"dataframe\">\n",
              "  <thead>\n",
              "    <tr style=\"text-align: right;\">\n",
              "      <th></th>\n",
              "      <th>Dispatching_base_num</th>\n",
              "      <th>Pickup_date</th>\n",
              "      <th>Affiliated_base_num</th>\n",
              "      <th>locationID</th>\n",
              "    </tr>\n",
              "  </thead>\n",
              "  <tbody>\n",
              "    <tr>\n",
              "      <th>0</th>\n",
              "      <td>B02617</td>\n",
              "      <td>2015-05-17 09:47:00</td>\n",
              "      <td>B02617</td>\n",
              "      <td>141</td>\n",
              "    </tr>\n",
              "    <tr>\n",
              "      <th>1</th>\n",
              "      <td>B02617</td>\n",
              "      <td>2015-05-17 09:47:00</td>\n",
              "      <td>B02617</td>\n",
              "      <td>65</td>\n",
              "    </tr>\n",
              "    <tr>\n",
              "      <th>2</th>\n",
              "      <td>B02617</td>\n",
              "      <td>2015-05-17 09:47:00</td>\n",
              "      <td>B02617</td>\n",
              "      <td>100</td>\n",
              "    </tr>\n",
              "    <tr>\n",
              "      <th>3</th>\n",
              "      <td>B02617</td>\n",
              "      <td>2015-05-17 09:47:00</td>\n",
              "      <td>B02774</td>\n",
              "      <td>80</td>\n",
              "    </tr>\n",
              "    <tr>\n",
              "      <th>4</th>\n",
              "      <td>B02617</td>\n",
              "      <td>2015-05-17 09:47:00</td>\n",
              "      <td>B02617</td>\n",
              "      <td>90</td>\n",
              "    </tr>\n",
              "    <tr>\n",
              "      <th>...</th>\n",
              "      <td>...</td>\n",
              "      <td>...</td>\n",
              "      <td>...</td>\n",
              "      <td>...</td>\n",
              "    </tr>\n",
              "    <tr>\n",
              "      <th>14270474</th>\n",
              "      <td>B02765</td>\n",
              "      <td>2015-05-08 15:43:00</td>\n",
              "      <td>B02765</td>\n",
              "      <td>186</td>\n",
              "    </tr>\n",
              "    <tr>\n",
              "      <th>14270475</th>\n",
              "      <td>B02765</td>\n",
              "      <td>2015-05-08 15:43:00</td>\n",
              "      <td>B02765</td>\n",
              "      <td>263</td>\n",
              "    </tr>\n",
              "    <tr>\n",
              "      <th>14270476</th>\n",
              "      <td>B02765</td>\n",
              "      <td>2015-05-08 15:43:00</td>\n",
              "      <td>B02765</td>\n",
              "      <td>90</td>\n",
              "    </tr>\n",
              "    <tr>\n",
              "      <th>14270477</th>\n",
              "      <td>B02765</td>\n",
              "      <td>2015-05-08 15:44:00</td>\n",
              "      <td>B01899</td>\n",
              "      <td>45</td>\n",
              "    </tr>\n",
              "    <tr>\n",
              "      <th>14270478</th>\n",
              "      <td>B02765</td>\n",
              "      <td>2015-05-08 15:44:00</td>\n",
              "      <td>B02682</td>\n",
              "      <td>144</td>\n",
              "    </tr>\n",
              "  </tbody>\n",
              "</table>\n",
              "<p>14270479 rows × 4 columns</p>\n",
              "</div>"
            ],
            "text/plain": [
              "         Dispatching_base_num  ... locationID\n",
              "0                      B02617  ...        141\n",
              "1                      B02617  ...         65\n",
              "2                      B02617  ...        100\n",
              "3                      B02617  ...         80\n",
              "4                      B02617  ...         90\n",
              "...                       ...  ...        ...\n",
              "14270474               B02765  ...        186\n",
              "14270475               B02765  ...        263\n",
              "14270476               B02765  ...         90\n",
              "14270477               B02765  ...         45\n",
              "14270478               B02765  ...        144\n",
              "\n",
              "[14270479 rows x 4 columns]"
            ]
          },
          "metadata": {},
          "execution_count": 9
        }
      ]
    },
    {
      "cell_type": "code",
      "metadata": {
        "id": "C9t5w8CcMwWC",
        "colab": {
          "base_uri": "https://localhost:8080/"
        },
        "outputId": "5efbadb9-e2ab-44d9-e1a5-a3e546d2d682"
      },
      "source": [
        "uber_df.dtypes"
      ],
      "execution_count": 10,
      "outputs": [
        {
          "output_type": "execute_result",
          "data": {
            "text/plain": [
              "Dispatching_base_num    object\n",
              "Pickup_date             object\n",
              "Affiliated_base_num     object\n",
              "locationID               int64\n",
              "dtype: object"
            ]
          },
          "metadata": {},
          "execution_count": 10
        }
      ]
    },
    {
      "cell_type": "code",
      "metadata": {
        "id": "9zKq39AkUBzh"
      },
      "source": [
        "#Delete rows with \"Pickup_date\" col = value '201'\n",
        "uber_df = uber_df.loc[uber_df[\"Pickup_date\"] != '201']"
      ],
      "execution_count": 12,
      "outputs": []
    },
    {
      "cell_type": "code",
      "metadata": {
        "id": "3mZn7DfXMEz4",
        "colab": {
          "base_uri": "https://localhost:8080/"
        },
        "outputId": "0e7ee467-972d-4761-b91e-5b31198cb7b3"
      },
      "source": [
        "# 2. Preprocess data (convert pickup_date object into datetime)\n",
        "uber_df['Pickup_date'] = pd.to_datetime(uber_df['Pickup_date'], format='%Y-%m-%d %H:%M:%S')\n",
        "uber_df.dtypes"
      ],
      "execution_count": 13,
      "outputs": [
        {
          "output_type": "execute_result",
          "data": {
            "text/plain": [
              "Dispatching_base_num            object\n",
              "Pickup_date             datetime64[ns]\n",
              "Affiliated_base_num             object\n",
              "locationID                       int64\n",
              "dtype: object"
            ]
          },
          "metadata": {},
          "execution_count": 13
        }
      ]
    },
    {
      "cell_type": "code",
      "metadata": {
        "id": "UdCzOISPOp6t"
      },
      "source": [
        "uber_df['year'] = uber_df['Pickup_date'].dt.year\n",
        "uber_df['month'] = uber_df['Pickup_date'].dt.month\n",
        "uber_df['weekday'] = uber_df['Pickup_date'].dt.day_name()\n",
        "uber_df['day'] = uber_df['Pickup_date'].dt.day\n",
        "uber_df['hour'] = uber_df['Pickup_date'].dt.hour\n",
        "uber_df['minute'] = uber_df['Pickup_date'].dt.minute"
      ],
      "execution_count": 14,
      "outputs": []
    },
    {
      "cell_type": "code",
      "metadata": {
        "id": "yVjSSK3zVicN",
        "colab": {
          "base_uri": "https://localhost:8080/",
          "height": 423
        },
        "outputId": "c8031aa7-8401-4dc4-a7be-eee51e24be1a"
      },
      "source": [
        "uber_df"
      ],
      "execution_count": 15,
      "outputs": [
        {
          "output_type": "execute_result",
          "data": {
            "text/html": [
              "<div>\n",
              "<style scoped>\n",
              "    .dataframe tbody tr th:only-of-type {\n",
              "        vertical-align: middle;\n",
              "    }\n",
              "\n",
              "    .dataframe tbody tr th {\n",
              "        vertical-align: top;\n",
              "    }\n",
              "\n",
              "    .dataframe thead th {\n",
              "        text-align: right;\n",
              "    }\n",
              "</style>\n",
              "<table border=\"1\" class=\"dataframe\">\n",
              "  <thead>\n",
              "    <tr style=\"text-align: right;\">\n",
              "      <th></th>\n",
              "      <th>Dispatching_base_num</th>\n",
              "      <th>Pickup_date</th>\n",
              "      <th>Affiliated_base_num</th>\n",
              "      <th>locationID</th>\n",
              "      <th>year</th>\n",
              "      <th>month</th>\n",
              "      <th>weekday</th>\n",
              "      <th>day</th>\n",
              "      <th>hour</th>\n",
              "      <th>minute</th>\n",
              "    </tr>\n",
              "  </thead>\n",
              "  <tbody>\n",
              "    <tr>\n",
              "      <th>0</th>\n",
              "      <td>B02617</td>\n",
              "      <td>2015-05-17 09:47:00</td>\n",
              "      <td>B02617</td>\n",
              "      <td>141</td>\n",
              "      <td>2015</td>\n",
              "      <td>5</td>\n",
              "      <td>Sunday</td>\n",
              "      <td>17</td>\n",
              "      <td>9</td>\n",
              "      <td>47</td>\n",
              "    </tr>\n",
              "    <tr>\n",
              "      <th>1</th>\n",
              "      <td>B02617</td>\n",
              "      <td>2015-05-17 09:47:00</td>\n",
              "      <td>B02617</td>\n",
              "      <td>65</td>\n",
              "      <td>2015</td>\n",
              "      <td>5</td>\n",
              "      <td>Sunday</td>\n",
              "      <td>17</td>\n",
              "      <td>9</td>\n",
              "      <td>47</td>\n",
              "    </tr>\n",
              "    <tr>\n",
              "      <th>2</th>\n",
              "      <td>B02617</td>\n",
              "      <td>2015-05-17 09:47:00</td>\n",
              "      <td>B02617</td>\n",
              "      <td>100</td>\n",
              "      <td>2015</td>\n",
              "      <td>5</td>\n",
              "      <td>Sunday</td>\n",
              "      <td>17</td>\n",
              "      <td>9</td>\n",
              "      <td>47</td>\n",
              "    </tr>\n",
              "    <tr>\n",
              "      <th>3</th>\n",
              "      <td>B02617</td>\n",
              "      <td>2015-05-17 09:47:00</td>\n",
              "      <td>B02774</td>\n",
              "      <td>80</td>\n",
              "      <td>2015</td>\n",
              "      <td>5</td>\n",
              "      <td>Sunday</td>\n",
              "      <td>17</td>\n",
              "      <td>9</td>\n",
              "      <td>47</td>\n",
              "    </tr>\n",
              "    <tr>\n",
              "      <th>4</th>\n",
              "      <td>B02617</td>\n",
              "      <td>2015-05-17 09:47:00</td>\n",
              "      <td>B02617</td>\n",
              "      <td>90</td>\n",
              "      <td>2015</td>\n",
              "      <td>5</td>\n",
              "      <td>Sunday</td>\n",
              "      <td>17</td>\n",
              "      <td>9</td>\n",
              "      <td>47</td>\n",
              "    </tr>\n",
              "    <tr>\n",
              "      <th>...</th>\n",
              "      <td>...</td>\n",
              "      <td>...</td>\n",
              "      <td>...</td>\n",
              "      <td>...</td>\n",
              "      <td>...</td>\n",
              "      <td>...</td>\n",
              "      <td>...</td>\n",
              "      <td>...</td>\n",
              "      <td>...</td>\n",
              "      <td>...</td>\n",
              "    </tr>\n",
              "    <tr>\n",
              "      <th>14270474</th>\n",
              "      <td>B02765</td>\n",
              "      <td>2015-05-08 15:43:00</td>\n",
              "      <td>B02765</td>\n",
              "      <td>186</td>\n",
              "      <td>2015</td>\n",
              "      <td>5</td>\n",
              "      <td>Friday</td>\n",
              "      <td>8</td>\n",
              "      <td>15</td>\n",
              "      <td>43</td>\n",
              "    </tr>\n",
              "    <tr>\n",
              "      <th>14270475</th>\n",
              "      <td>B02765</td>\n",
              "      <td>2015-05-08 15:43:00</td>\n",
              "      <td>B02765</td>\n",
              "      <td>263</td>\n",
              "      <td>2015</td>\n",
              "      <td>5</td>\n",
              "      <td>Friday</td>\n",
              "      <td>8</td>\n",
              "      <td>15</td>\n",
              "      <td>43</td>\n",
              "    </tr>\n",
              "    <tr>\n",
              "      <th>14270476</th>\n",
              "      <td>B02765</td>\n",
              "      <td>2015-05-08 15:43:00</td>\n",
              "      <td>B02765</td>\n",
              "      <td>90</td>\n",
              "      <td>2015</td>\n",
              "      <td>5</td>\n",
              "      <td>Friday</td>\n",
              "      <td>8</td>\n",
              "      <td>15</td>\n",
              "      <td>43</td>\n",
              "    </tr>\n",
              "    <tr>\n",
              "      <th>14270477</th>\n",
              "      <td>B02765</td>\n",
              "      <td>2015-05-08 15:44:00</td>\n",
              "      <td>B01899</td>\n",
              "      <td>45</td>\n",
              "      <td>2015</td>\n",
              "      <td>5</td>\n",
              "      <td>Friday</td>\n",
              "      <td>8</td>\n",
              "      <td>15</td>\n",
              "      <td>44</td>\n",
              "    </tr>\n",
              "    <tr>\n",
              "      <th>14270478</th>\n",
              "      <td>B02765</td>\n",
              "      <td>2015-05-08 15:44:00</td>\n",
              "      <td>B02682</td>\n",
              "      <td>144</td>\n",
              "      <td>2015</td>\n",
              "      <td>5</td>\n",
              "      <td>Friday</td>\n",
              "      <td>8</td>\n",
              "      <td>15</td>\n",
              "      <td>44</td>\n",
              "    </tr>\n",
              "  </tbody>\n",
              "</table>\n",
              "<p>14270479 rows × 10 columns</p>\n",
              "</div>"
            ],
            "text/plain": [
              "         Dispatching_base_num         Pickup_date  ... hour  minute\n",
              "0                      B02617 2015-05-17 09:47:00  ...    9      47\n",
              "1                      B02617 2015-05-17 09:47:00  ...    9      47\n",
              "2                      B02617 2015-05-17 09:47:00  ...    9      47\n",
              "3                      B02617 2015-05-17 09:47:00  ...    9      47\n",
              "4                      B02617 2015-05-17 09:47:00  ...    9      47\n",
              "...                       ...                 ...  ...  ...     ...\n",
              "14270474               B02765 2015-05-08 15:43:00  ...   15      43\n",
              "14270475               B02765 2015-05-08 15:43:00  ...   15      43\n",
              "14270476               B02765 2015-05-08 15:43:00  ...   15      43\n",
              "14270477               B02765 2015-05-08 15:44:00  ...   15      44\n",
              "14270478               B02765 2015-05-08 15:44:00  ...   15      44\n",
              "\n",
              "[14270479 rows x 10 columns]"
            ]
          },
          "metadata": {},
          "execution_count": 15
        }
      ]
    },
    {
      "cell_type": "markdown",
      "metadata": {
        "id": "NqklZaiRV4Pl"
      },
      "source": [
        "# **4.3 Analysis uber rides by month**"
      ]
    },
    {
      "cell_type": "code",
      "metadata": {
        "id": "4MpnKIRHVq0X",
        "colab": {
          "base_uri": "https://localhost:8080/"
        },
        "outputId": "74506f12-d5b6-455b-b41c-80934c86e27d"
      },
      "source": [
        "uber_df['month'].value_counts()"
      ],
      "execution_count": 16,
      "outputs": [
        {
          "output_type": "execute_result",
          "data": {
            "text/plain": [
              "6    2816895\n",
              "5    2695553\n",
              "4    2280837\n",
              "2    2263620\n",
              "3    2259773\n",
              "1    1953801\n",
              "Name: month, dtype: int64"
            ]
          },
          "metadata": {},
          "execution_count": 16
        }
      ]
    },
    {
      "cell_type": "code",
      "metadata": {
        "id": "zaApgqVUWENp",
        "colab": {
          "base_uri": "https://localhost:8080/",
          "height": 542
        },
        "outputId": "1dc5dcdd-a496-45c1-d513-098c2aa0db48"
      },
      "source": [
        "px.bar(x= uber_df['month'].value_counts().index,\n",
        "       y= uber_df['month'].value_counts(),\n",
        "       title= 'Rides through Months')"
      ],
      "execution_count": 17,
      "outputs": [
        {
          "output_type": "display_data",
          "data": {
            "text/html": [
              "<html>\n",
              "<head><meta charset=\"utf-8\" /></head>\n",
              "<body>\n",
              "    <div>\n",
              "            <script src=\"https://cdnjs.cloudflare.com/ajax/libs/mathjax/2.7.5/MathJax.js?config=TeX-AMS-MML_SVG\"></script><script type=\"text/javascript\">if (window.MathJax) {MathJax.Hub.Config({SVG: {font: \"STIX-Web\"}});}</script>\n",
              "                <script type=\"text/javascript\">window.PlotlyConfig = {MathJaxConfig: 'local'};</script>\n",
              "        <script src=\"https://cdn.plot.ly/plotly-latest.min.js\"></script>    \n",
              "            <div id=\"42c818f0-bdfc-4e6e-a318-becdd4ad7183\" class=\"plotly-graph-div\" style=\"height:525px; width:100%;\"></div>\n",
              "            <script type=\"text/javascript\">\n",
              "                \n",
              "                    window.PLOTLYENV=window.PLOTLYENV || {};\n",
              "                    \n",
              "                if (document.getElementById(\"42c818f0-bdfc-4e6e-a318-becdd4ad7183\")) {\n",
              "                    Plotly.newPlot(\n",
              "                        '42c818f0-bdfc-4e6e-a318-becdd4ad7183',\n",
              "                        [{\"alignmentgroup\": \"True\", \"hoverlabel\": {\"namelength\": 0}, \"hovertemplate\": \"x=%{x}<br>y=%{y}\", \"legendgroup\": \"\", \"marker\": {\"color\": \"#636efa\"}, \"name\": \"\", \"offsetgroup\": \"\", \"orientation\": \"v\", \"showlegend\": false, \"textposition\": \"auto\", \"type\": \"bar\", \"x\": [6, 5, 4, 2, 3, 1], \"xaxis\": \"x\", \"y\": [2816895, 2695553, 2280837, 2263620, 2259773, 1953801], \"yaxis\": \"y\"}],\n",
              "                        {\"barmode\": \"relative\", \"legend\": {\"tracegroupgap\": 0}, \"template\": {\"data\": {\"bar\": [{\"error_x\": {\"color\": \"#2a3f5f\"}, \"error_y\": {\"color\": \"#2a3f5f\"}, \"marker\": {\"line\": {\"color\": \"#E5ECF6\", \"width\": 0.5}}, \"type\": \"bar\"}], \"barpolar\": [{\"marker\": {\"line\": {\"color\": \"#E5ECF6\", \"width\": 0.5}}, \"type\": \"barpolar\"}], \"carpet\": [{\"aaxis\": {\"endlinecolor\": \"#2a3f5f\", \"gridcolor\": \"white\", \"linecolor\": \"white\", \"minorgridcolor\": \"white\", \"startlinecolor\": \"#2a3f5f\"}, \"baxis\": {\"endlinecolor\": \"#2a3f5f\", \"gridcolor\": \"white\", \"linecolor\": \"white\", \"minorgridcolor\": \"white\", \"startlinecolor\": \"#2a3f5f\"}, \"type\": \"carpet\"}], \"choropleth\": [{\"colorbar\": {\"outlinewidth\": 0, \"ticks\": \"\"}, \"type\": \"choropleth\"}], \"contour\": [{\"colorbar\": {\"outlinewidth\": 0, \"ticks\": \"\"}, \"colorscale\": [[0.0, \"#0d0887\"], [0.1111111111111111, \"#46039f\"], [0.2222222222222222, \"#7201a8\"], [0.3333333333333333, \"#9c179e\"], [0.4444444444444444, \"#bd3786\"], [0.5555555555555556, \"#d8576b\"], [0.6666666666666666, \"#ed7953\"], [0.7777777777777778, \"#fb9f3a\"], [0.8888888888888888, \"#fdca26\"], [1.0, \"#f0f921\"]], \"type\": \"contour\"}], \"contourcarpet\": [{\"colorbar\": {\"outlinewidth\": 0, \"ticks\": \"\"}, \"type\": \"contourcarpet\"}], \"heatmap\": [{\"colorbar\": {\"outlinewidth\": 0, \"ticks\": \"\"}, \"colorscale\": [[0.0, \"#0d0887\"], [0.1111111111111111, \"#46039f\"], [0.2222222222222222, \"#7201a8\"], [0.3333333333333333, \"#9c179e\"], [0.4444444444444444, \"#bd3786\"], [0.5555555555555556, \"#d8576b\"], [0.6666666666666666, \"#ed7953\"], [0.7777777777777778, \"#fb9f3a\"], [0.8888888888888888, \"#fdca26\"], [1.0, \"#f0f921\"]], \"type\": \"heatmap\"}], \"heatmapgl\": [{\"colorbar\": {\"outlinewidth\": 0, \"ticks\": \"\"}, \"colorscale\": [[0.0, \"#0d0887\"], [0.1111111111111111, \"#46039f\"], [0.2222222222222222, \"#7201a8\"], [0.3333333333333333, \"#9c179e\"], [0.4444444444444444, \"#bd3786\"], [0.5555555555555556, \"#d8576b\"], [0.6666666666666666, \"#ed7953\"], [0.7777777777777778, \"#fb9f3a\"], [0.8888888888888888, \"#fdca26\"], [1.0, \"#f0f921\"]], \"type\": \"heatmapgl\"}], \"histogram\": [{\"marker\": {\"colorbar\": {\"outlinewidth\": 0, \"ticks\": \"\"}}, \"type\": \"histogram\"}], \"histogram2d\": [{\"colorbar\": {\"outlinewidth\": 0, \"ticks\": \"\"}, \"colorscale\": [[0.0, \"#0d0887\"], [0.1111111111111111, \"#46039f\"], [0.2222222222222222, \"#7201a8\"], [0.3333333333333333, \"#9c179e\"], [0.4444444444444444, \"#bd3786\"], [0.5555555555555556, \"#d8576b\"], [0.6666666666666666, \"#ed7953\"], [0.7777777777777778, \"#fb9f3a\"], [0.8888888888888888, \"#fdca26\"], [1.0, \"#f0f921\"]], \"type\": \"histogram2d\"}], \"histogram2dcontour\": [{\"colorbar\": {\"outlinewidth\": 0, \"ticks\": \"\"}, \"colorscale\": [[0.0, \"#0d0887\"], [0.1111111111111111, \"#46039f\"], [0.2222222222222222, \"#7201a8\"], [0.3333333333333333, \"#9c179e\"], [0.4444444444444444, \"#bd3786\"], [0.5555555555555556, \"#d8576b\"], [0.6666666666666666, \"#ed7953\"], [0.7777777777777778, \"#fb9f3a\"], [0.8888888888888888, \"#fdca26\"], [1.0, \"#f0f921\"]], \"type\": \"histogram2dcontour\"}], \"mesh3d\": [{\"colorbar\": {\"outlinewidth\": 0, \"ticks\": \"\"}, \"type\": \"mesh3d\"}], \"parcoords\": [{\"line\": {\"colorbar\": {\"outlinewidth\": 0, \"ticks\": \"\"}}, \"type\": \"parcoords\"}], \"pie\": [{\"automargin\": true, \"type\": \"pie\"}], \"scatter\": [{\"marker\": {\"colorbar\": {\"outlinewidth\": 0, \"ticks\": \"\"}}, \"type\": \"scatter\"}], \"scatter3d\": [{\"line\": {\"colorbar\": {\"outlinewidth\": 0, \"ticks\": \"\"}}, \"marker\": {\"colorbar\": {\"outlinewidth\": 0, \"ticks\": \"\"}}, \"type\": \"scatter3d\"}], \"scattercarpet\": [{\"marker\": {\"colorbar\": {\"outlinewidth\": 0, \"ticks\": \"\"}}, \"type\": \"scattercarpet\"}], \"scattergeo\": [{\"marker\": {\"colorbar\": {\"outlinewidth\": 0, \"ticks\": \"\"}}, \"type\": \"scattergeo\"}], \"scattergl\": [{\"marker\": {\"colorbar\": {\"outlinewidth\": 0, \"ticks\": \"\"}}, \"type\": \"scattergl\"}], \"scattermapbox\": [{\"marker\": {\"colorbar\": {\"outlinewidth\": 0, \"ticks\": \"\"}}, \"type\": \"scattermapbox\"}], \"scatterpolar\": [{\"marker\": {\"colorbar\": {\"outlinewidth\": 0, \"ticks\": \"\"}}, \"type\": \"scatterpolar\"}], \"scatterpolargl\": [{\"marker\": {\"colorbar\": {\"outlinewidth\": 0, \"ticks\": \"\"}}, \"type\": \"scatterpolargl\"}], \"scatterternary\": [{\"marker\": {\"colorbar\": {\"outlinewidth\": 0, \"ticks\": \"\"}}, \"type\": \"scatterternary\"}], \"surface\": [{\"colorbar\": {\"outlinewidth\": 0, \"ticks\": \"\"}, \"colorscale\": [[0.0, \"#0d0887\"], [0.1111111111111111, \"#46039f\"], [0.2222222222222222, \"#7201a8\"], [0.3333333333333333, \"#9c179e\"], [0.4444444444444444, \"#bd3786\"], [0.5555555555555556, \"#d8576b\"], [0.6666666666666666, \"#ed7953\"], [0.7777777777777778, \"#fb9f3a\"], [0.8888888888888888, \"#fdca26\"], [1.0, \"#f0f921\"]], \"type\": \"surface\"}], \"table\": [{\"cells\": {\"fill\": {\"color\": \"#EBF0F8\"}, \"line\": {\"color\": \"white\"}}, \"header\": {\"fill\": {\"color\": \"#C8D4E3\"}, \"line\": {\"color\": \"white\"}}, \"type\": \"table\"}]}, \"layout\": {\"annotationdefaults\": {\"arrowcolor\": \"#2a3f5f\", \"arrowhead\": 0, \"arrowwidth\": 1}, \"coloraxis\": {\"colorbar\": {\"outlinewidth\": 0, \"ticks\": \"\"}}, \"colorscale\": {\"diverging\": [[0, \"#8e0152\"], [0.1, \"#c51b7d\"], [0.2, \"#de77ae\"], [0.3, \"#f1b6da\"], [0.4, \"#fde0ef\"], [0.5, \"#f7f7f7\"], [0.6, \"#e6f5d0\"], [0.7, \"#b8e186\"], [0.8, \"#7fbc41\"], [0.9, \"#4d9221\"], [1, \"#276419\"]], \"sequential\": [[0.0, \"#0d0887\"], [0.1111111111111111, \"#46039f\"], [0.2222222222222222, \"#7201a8\"], [0.3333333333333333, \"#9c179e\"], [0.4444444444444444, \"#bd3786\"], [0.5555555555555556, \"#d8576b\"], [0.6666666666666666, \"#ed7953\"], [0.7777777777777778, \"#fb9f3a\"], [0.8888888888888888, \"#fdca26\"], [1.0, \"#f0f921\"]], \"sequentialminus\": [[0.0, \"#0d0887\"], [0.1111111111111111, \"#46039f\"], [0.2222222222222222, \"#7201a8\"], [0.3333333333333333, \"#9c179e\"], [0.4444444444444444, \"#bd3786\"], [0.5555555555555556, \"#d8576b\"], [0.6666666666666666, \"#ed7953\"], [0.7777777777777778, \"#fb9f3a\"], [0.8888888888888888, \"#fdca26\"], [1.0, \"#f0f921\"]]}, \"colorway\": [\"#636efa\", \"#EF553B\", \"#00cc96\", \"#ab63fa\", \"#FFA15A\", \"#19d3f3\", \"#FF6692\", \"#B6E880\", \"#FF97FF\", \"#FECB52\"], \"font\": {\"color\": \"#2a3f5f\"}, \"geo\": {\"bgcolor\": \"white\", \"lakecolor\": \"white\", \"landcolor\": \"#E5ECF6\", \"showlakes\": true, \"showland\": true, \"subunitcolor\": \"white\"}, \"hoverlabel\": {\"align\": \"left\"}, \"hovermode\": \"closest\", \"mapbox\": {\"style\": \"light\"}, \"paper_bgcolor\": \"white\", \"plot_bgcolor\": \"#E5ECF6\", \"polar\": {\"angularaxis\": {\"gridcolor\": \"white\", \"linecolor\": \"white\", \"ticks\": \"\"}, \"bgcolor\": \"#E5ECF6\", \"radialaxis\": {\"gridcolor\": \"white\", \"linecolor\": \"white\", \"ticks\": \"\"}}, \"scene\": {\"xaxis\": {\"backgroundcolor\": \"#E5ECF6\", \"gridcolor\": \"white\", \"gridwidth\": 2, \"linecolor\": \"white\", \"showbackground\": true, \"ticks\": \"\", \"zerolinecolor\": \"white\"}, \"yaxis\": {\"backgroundcolor\": \"#E5ECF6\", \"gridcolor\": \"white\", \"gridwidth\": 2, \"linecolor\": \"white\", \"showbackground\": true, \"ticks\": \"\", \"zerolinecolor\": \"white\"}, \"zaxis\": {\"backgroundcolor\": \"#E5ECF6\", \"gridcolor\": \"white\", \"gridwidth\": 2, \"linecolor\": \"white\", \"showbackground\": true, \"ticks\": \"\", \"zerolinecolor\": \"white\"}}, \"shapedefaults\": {\"line\": {\"color\": \"#2a3f5f\"}}, \"ternary\": {\"aaxis\": {\"gridcolor\": \"white\", \"linecolor\": \"white\", \"ticks\": \"\"}, \"baxis\": {\"gridcolor\": \"white\", \"linecolor\": \"white\", \"ticks\": \"\"}, \"bgcolor\": \"#E5ECF6\", \"caxis\": {\"gridcolor\": \"white\", \"linecolor\": \"white\", \"ticks\": \"\"}}, \"title\": {\"x\": 0.05}, \"xaxis\": {\"automargin\": true, \"gridcolor\": \"white\", \"linecolor\": \"white\", \"ticks\": \"\", \"title\": {\"standoff\": 15}, \"zerolinecolor\": \"white\", \"zerolinewidth\": 2}, \"yaxis\": {\"automargin\": true, \"gridcolor\": \"white\", \"linecolor\": \"white\", \"ticks\": \"\", \"title\": {\"standoff\": 15}, \"zerolinecolor\": \"white\", \"zerolinewidth\": 2}}}, \"title\": {\"text\": \"Rides through Months\"}, \"xaxis\": {\"anchor\": \"y\", \"domain\": [0.0, 1.0], \"title\": {\"text\": \"x\"}}, \"yaxis\": {\"anchor\": \"x\", \"domain\": [0.0, 1.0], \"title\": {\"text\": \"y\"}}},\n",
              "                        {\"responsive\": true}\n",
              "                    ).then(function(){\n",
              "                            \n",
              "var gd = document.getElementById('42c818f0-bdfc-4e6e-a318-becdd4ad7183');\n",
              "var x = new MutationObserver(function (mutations, observer) {{\n",
              "        var display = window.getComputedStyle(gd).display;\n",
              "        if (!display || display === 'none') {{\n",
              "            console.log([gd, 'removed!']);\n",
              "            Plotly.purge(gd);\n",
              "            observer.disconnect();\n",
              "        }}\n",
              "}});\n",
              "\n",
              "// Listen for the removal of the full notebook cells\n",
              "var notebookContainer = gd.closest('#notebook-container');\n",
              "if (notebookContainer) {{\n",
              "    x.observe(notebookContainer, {childList: true});\n",
              "}}\n",
              "\n",
              "// Listen for the clearing of the current output cell\n",
              "var outputEl = gd.closest('.output');\n",
              "if (outputEl) {{\n",
              "    x.observe(outputEl, {childList: true});\n",
              "}}\n",
              "\n",
              "                        })\n",
              "                };\n",
              "                \n",
              "            </script>\n",
              "        </div>\n",
              "</body>\n",
              "</html>"
            ]
          },
          "metadata": {}
        }
      ]
    },
    {
      "cell_type": "code",
      "metadata": {
        "id": "m8DFl7O0Zynp",
        "colab": {
          "base_uri": "https://localhost:8080/",
          "height": 248
        },
        "outputId": "17a6e20b-1308-496d-cdba-ef5bedce617f"
      },
      "source": [
        "data = uber_df['month'].value_counts()\n",
        "labels = uber_df['month'].value_counts().index\n",
        "\n",
        "#create pie chart\n",
        "plt.pie(data, labels = labels, autopct='%.0f%%')\n",
        "plt.show()"
      ],
      "execution_count": 18,
      "outputs": [
        {
          "output_type": "display_data",
          "data": {
            "image/png": "[encoded data removed]",
            "text/plain": [
              "<Figure size 432x288 with 1 Axes>"
            ]
          },
          "metadata": {}
        }
      ]
    },
    {
      "cell_type": "markdown",
      "metadata": {
        "id": "UZSzbZgB8jtN"
      },
      "source": [
        "# **4.4 Analysis rush through hours**"
      ]
    },
    {
      "cell_type": "code",
      "metadata": {
        "colab": {
          "base_uri": "https://localhost:8080/",
          "height": 397
        },
        "id": "SH0OyxAP8tTA",
        "outputId": "b49596ff-6fdd-4351-fecc-43bd8d18c2fd"
      },
      "source": [
        "sns.countplot(uber_df['hour'])"
      ],
      "execution_count": 21,
      "outputs": [
        {
          "output_type": "stream",
          "name": "stderr",
          "text": [
            "/usr/local/lib/python3.7/dist-packages/seaborn/_decorators.py:43: FutureWarning:\n",
            "\n",
            "Pass the following variable as a keyword arg: x. From version 0.12, the only valid positional argument will be `data`, and passing other arguments without an explicit keyword will result in an error or misinterpretation.\n",
            "\n"
          ]
        },
        {
          "output_type": "execute_result",
          "data": {
            "text/plain": [
              "<matplotlib.axes._subplots.AxesSubplot at 0x7f0d198b7d50>"
            ]
          },
          "metadata": {},
          "execution_count": 21
        },
        {
          "output_type": "display_data",
          "data": {
            "image/png": "[encoded data removed]",
            "text/plain": [
              "<Figure size 432x288 with 1 Axes>"
            ]
          },
          "metadata": {
            "needs_background": "light"
          }
        }
      ]
    },
    {
      "cell_type": "markdown",
      "metadata": {
        "id": "QO1hBKK59JuT"
      },
      "source": [
        "# **4.5 Analysis rush in each weekday & its hours**"
      ]
    },
    {
      "cell_type": "code",
      "metadata": {
        "colab": {
          "base_uri": "https://localhost:8080/",
          "height": 423
        },
        "id": "9vuO8krw9W48",
        "outputId": "fac7bd86-5746-4af2-db29-93ca5e3f7892"
      },
      "source": [
        "day_summary = uber_df.groupby(['weekday', 'hour'])['Pickup_date'].count().reset_index()\n",
        "#rename columns of day_summary dataframe\n",
        "day_summary.columns = ['weekday', 'hour', 'counts']\n",
        "day_summary"
      ],
      "execution_count": 28,
      "outputs": [
        {
          "output_type": "execute_result",
          "data": {
            "text/html": [
              "<div>\n",
              "<style scoped>\n",
              "    .dataframe tbody tr th:only-of-type {\n",
              "        vertical-align: middle;\n",
              "    }\n",
              "\n",
              "    .dataframe tbody tr th {\n",
              "        vertical-align: top;\n",
              "    }\n",
              "\n",
              "    .dataframe thead th {\n",
              "        text-align: right;\n",
              "    }\n",
              "</style>\n",
              "<table border=\"1\" class=\"dataframe\">\n",
              "  <thead>\n",
              "    <tr style=\"text-align: right;\">\n",
              "      <th></th>\n",
              "      <th>weekday</th>\n",
              "      <th>hour</th>\n",
              "      <th>counts</th>\n",
              "    </tr>\n",
              "  </thead>\n",
              "  <tbody>\n",
              "    <tr>\n",
              "      <th>0</th>\n",
              "      <td>Friday</td>\n",
              "      <td>0</td>\n",
              "      <td>85939</td>\n",
              "    </tr>\n",
              "    <tr>\n",
              "      <th>1</th>\n",
              "      <td>Friday</td>\n",
              "      <td>1</td>\n",
              "      <td>46616</td>\n",
              "    </tr>\n",
              "    <tr>\n",
              "      <th>2</th>\n",
              "      <td>Friday</td>\n",
              "      <td>2</td>\n",
              "      <td>28102</td>\n",
              "    </tr>\n",
              "    <tr>\n",
              "      <th>3</th>\n",
              "      <td>Friday</td>\n",
              "      <td>3</td>\n",
              "      <td>19518</td>\n",
              "    </tr>\n",
              "    <tr>\n",
              "      <th>4</th>\n",
              "      <td>Friday</td>\n",
              "      <td>4</td>\n",
              "      <td>23575</td>\n",
              "    </tr>\n",
              "    <tr>\n",
              "      <th>...</th>\n",
              "      <td>...</td>\n",
              "      <td>...</td>\n",
              "      <td>...</td>\n",
              "    </tr>\n",
              "    <tr>\n",
              "      <th>163</th>\n",
              "      <td>Wednesday</td>\n",
              "      <td>19</td>\n",
              "      <td>143751</td>\n",
              "    </tr>\n",
              "    <tr>\n",
              "      <th>164</th>\n",
              "      <td>Wednesday</td>\n",
              "      <td>20</td>\n",
              "      <td>136003</td>\n",
              "    </tr>\n",
              "    <tr>\n",
              "      <th>165</th>\n",
              "      <td>Wednesday</td>\n",
              "      <td>21</td>\n",
              "      <td>133993</td>\n",
              "    </tr>\n",
              "    <tr>\n",
              "      <th>166</th>\n",
              "      <td>Wednesday</td>\n",
              "      <td>22</td>\n",
              "      <td>127026</td>\n",
              "    </tr>\n",
              "    <tr>\n",
              "      <th>167</th>\n",
              "      <td>Wednesday</td>\n",
              "      <td>23</td>\n",
              "      <td>99490</td>\n",
              "    </tr>\n",
              "  </tbody>\n",
              "</table>\n",
              "<p>168 rows × 3 columns</p>\n",
              "</div>"
            ],
            "text/plain": [
              "       weekday  hour  counts\n",
              "0       Friday     0   85939\n",
              "1       Friday     1   46616\n",
              "2       Friday     2   28102\n",
              "3       Friday     3   19518\n",
              "4       Friday     4   23575\n",
              "..         ...   ...     ...\n",
              "163  Wednesday    19  143751\n",
              "164  Wednesday    20  136003\n",
              "165  Wednesday    21  133993\n",
              "166  Wednesday    22  127026\n",
              "167  Wednesday    23   99490\n",
              "\n",
              "[168 rows x 3 columns]"
            ]
          },
          "metadata": {},
          "execution_count": 28
        }
      ]
    },
    {
      "cell_type": "code",
      "metadata": {
        "colab": {
          "base_uri": "https://localhost:8080/",
          "height": 406
        },
        "id": "a02hSYA_-3pV",
        "outputId": "571a2199-dd7e-4fa7-a0b4-7ea251855c33"
      },
      "source": [
        "plt.figure(figsize=(12,6))\n",
        "sns.pointplot(x='hour', y='counts', hue='weekday', data=day_summary)"
      ],
      "execution_count": 29,
      "outputs": [
        {
          "output_type": "execute_result",
          "data": {
            "text/plain": [
              "<matplotlib.axes._subplots.AxesSubplot at 0x7f0d193eb610>"
            ]
          },
          "metadata": {},
          "execution_count": 29
        },
        {
          "output_type": "display_data",
          "data": {
            "image/png": "[encoded data removed]",
            "text/plain": [
              "<Figure size 864x432 with 1 Axes>"
            ]
          },
          "metadata": {
            "needs_background": "light"
          }
        }
      ]
    },
    {
      "cell_type": "markdown",
      "metadata": {
        "id": "2E3GzCDTPXxm"
      },
      "source": [
        "# **5. Preprocess & Analysis 'Uber-Jan-Feb-FOIL.csv' file**"
      ]
    },
    {
      "cell_type": "code",
      "metadata": {
        "colab": {
          "base_uri": "https://localhost:8080/",
          "height": 206
        },
        "id": "ZV9CA_v5PhqA",
        "outputId": "3d282bf7-8c57-45d2-bac7-7abb869d5d49"
      },
      "source": [
        "df_foil = pd.read_csv(absolute_path + \"/\" + 'Uber-Jan-Feb-FOIL.csv')\n",
        "df_foil.head()"
      ],
      "execution_count": 34,
      "outputs": [
        {
          "output_type": "execute_result",
          "data": {
            "text/html": [
              "<div>\n",
              "<style scoped>\n",
              "    .dataframe tbody tr th:only-of-type {\n",
              "        vertical-align: middle;\n",
              "    }\n",
              "\n",
              "    .dataframe tbody tr th {\n",
              "        vertical-align: top;\n",
              "    }\n",
              "\n",
              "    .dataframe thead th {\n",
              "        text-align: right;\n",
              "    }\n",
              "</style>\n",
              "<table border=\"1\" class=\"dataframe\">\n",
              "  <thead>\n",
              "    <tr style=\"text-align: right;\">\n",
              "      <th></th>\n",
              "      <th>dispatching_base_number</th>\n",
              "      <th>date</th>\n",
              "      <th>active_vehicles</th>\n",
              "      <th>trips</th>\n",
              "    </tr>\n",
              "  </thead>\n",
              "  <tbody>\n",
              "    <tr>\n",
              "      <th>0</th>\n",
              "      <td>B02512</td>\n",
              "      <td>1/1/2015</td>\n",
              "      <td>190</td>\n",
              "      <td>1132</td>\n",
              "    </tr>\n",
              "    <tr>\n",
              "      <th>1</th>\n",
              "      <td>B02765</td>\n",
              "      <td>1/1/2015</td>\n",
              "      <td>225</td>\n",
              "      <td>1765</td>\n",
              "    </tr>\n",
              "    <tr>\n",
              "      <th>2</th>\n",
              "      <td>B02764</td>\n",
              "      <td>1/1/2015</td>\n",
              "      <td>3427</td>\n",
              "      <td>29421</td>\n",
              "    </tr>\n",
              "    <tr>\n",
              "      <th>3</th>\n",
              "      <td>B02682</td>\n",
              "      <td>1/1/2015</td>\n",
              "      <td>945</td>\n",
              "      <td>7679</td>\n",
              "    </tr>\n",
              "    <tr>\n",
              "      <th>4</th>\n",
              "      <td>B02617</td>\n",
              "      <td>1/1/2015</td>\n",
              "      <td>1228</td>\n",
              "      <td>9537</td>\n",
              "    </tr>\n",
              "  </tbody>\n",
              "</table>\n",
              "</div>"
            ],
            "text/plain": [
              "  dispatching_base_number      date  active_vehicles  trips\n",
              "0                  B02512  1/1/2015              190   1132\n",
              "1                  B02765  1/1/2015              225   1765\n",
              "2                  B02764  1/1/2015             3427  29421\n",
              "3                  B02682  1/1/2015              945   7679\n",
              "4                  B02617  1/1/2015             1228   9537"
            ]
          },
          "metadata": {},
          "execution_count": 34
        }
      ]
    },
    {
      "cell_type": "markdown",
      "metadata": {
        "id": "yo8RwCsBQV8v"
      },
      "source": [
        "**5.1 Analysis base number VS active_vehicles**"
      ]
    },
    {
      "cell_type": "code",
      "metadata": {
        "colab": {
          "base_uri": "https://localhost:8080/"
        },
        "id": "ZvzMmtzfRqTg",
        "outputId": "bef655b2-91a9-4087-c8d5-8a65b40b73ec"
      },
      "source": [
        "df_foil['dispatching_base_number'].unique()"
      ],
      "execution_count": 39,
      "outputs": [
        {
          "output_type": "execute_result",
          "data": {
            "text/plain": [
              "array(['B02512', 'B02765', 'B02764', 'B02682', 'B02617', 'B02598'],\n",
              "      dtype=object)"
            ]
          },
          "metadata": {},
          "execution_count": 39
        }
      ]
    },
    {
      "cell_type": "code",
      "metadata": {
        "colab": {
          "base_uri": "https://localhost:8080/",
          "height": 542
        },
        "id": "ADEmqNWrQmEI",
        "outputId": "42c9ee1b-3e33-44c8-987e-4f2ed85117f6"
      },
      "source": [
        "px.bar(x= df_foil['dispatching_base_number'],\n",
        "       y= df_foil['active_vehicles']\n",
        ")"
      ],
      "execution_count": 38,
      "outputs": [
        {
          "output_type": "display_data",
          "data": {
            "text/html": [
              "<html>\n",
              "<head><meta charset=\"utf-8\" /></head>\n",
              "<body>\n",
              "    <div>\n",
              "            <script src=\"https://cdnjs.cloudflare.com/ajax/libs/mathjax/2.7.5/MathJax.js?config=TeX-AMS-MML_SVG\"></script><script type=\"text/javascript\">if (window.MathJax) {MathJax.Hub.Config({SVG: {font: \"STIX-Web\"}});}</script>\n",
              "                <script type=\"text/javascript\">window.PlotlyConfig = {MathJaxConfig: 'local'};</script>\n",
              "        <script src=\"https://cdn.plot.ly/plotly-latest.min.js\"></script>    \n",
              "            <div id=\"03f6c3cc-9acd-4d10-9717-eb0bae88d604\" class=\"plotly-graph-div\" style=\"height:525px; width:100%;\"></div>\n",
              "            <script type=\"text/javascript\">\n",
              "                \n",
              "                    window.PLOTLYENV=window.PLOTLYENV || {};\n",
              "                    \n",
              "                if (document.getElementById(\"03f6c3cc-9acd-4d10-9717-eb0bae88d604\")) {\n",
              "                    Plotly.newPlot(\n",
              "                        '03f6c3cc-9acd-4d10-9717-eb0bae88d604',\n",
              "                        [{\"alignmentgroup\": \"True\", \"hoverlabel\": {\"namelength\": 0}, \"hovertemplate\": \"x=%{x}<br>y=%{y}\", \"legendgroup\": \"\", \"marker\": {\"color\": \"#636efa\"}, \"name\": \"\", \"offsetgroup\": \"\", \"orientation\": \"v\", \"showlegend\": false, \"textposition\": \"auto\", \"type\": \"bar\", \"x\": [\"B02512\", \"B02765\", \"B02764\", \"B02682\", \"B02617\", \"B02598\", \"B02598\", \"B02617\", \"B02512\", \"B02682\", \"B02765\", \"B02764\", \"B02765\", \"B02617\", \"B02598\", \"B02682\", \"B02512\", \"B02764\", \"B02512\", \"B02682\", \"B02598\", \"B02765\", \"B02617\", \"B02764\", \"B02512\", \"B02682\", \"B02617\", \"B02764\", \"B02598\", \"B02765\", \"B02764\", \"B02682\", \"B02617\", \"B02765\", \"B02512\", \"B02598\", \"B02617\", \"B02682\", \"B02764\", \"B02765\", \"B02512\", \"B02598\", \"B02765\", \"B02598\", \"B02512\", \"B02682\", \"B02764\", \"B02617\", \"B02617\", \"B02512\", \"B02764\", \"B02682\", \"B02598\", \"B02765\", \"B02682\", \"B02617\", \"B02598\", \"B02512\", \"B02764\", \"B02765\", \"B02765\", \"B02598\", \"B02682\", \"B02764\", \"B02617\", \"B02512\", \"B02764\", \"B02765\", \"B02512\", \"B02598\", \"B02682\", \"B02617\", \"B02765\", \"B02598\", \"B02617\", \"B02512\", \"B02764\", \"B02682\", \"B02764\", \"B02765\", \"B02598\", \"B02512\", \"B02617\", \"B02682\", \"B02512\", \"B02682\", \"B02617\", \"B02765\", \"B02764\", \"B02598\", \"B02617\", \"B02765\", \"B02764\", \"B02682\", \"B02512\", \"B02598\", \"B02598\", \"B02512\", \"B02682\", \"B02765\", \"B02617\", \"B02764\", \"B02512\", \"B02598\", \"B02765\", \"B02764\", \"B02682\", \"B02617\", \"B02682\", \"B02617\", \"B02765\", \"B02764\", \"B02512\", \"B02598\", \"B02598\", \"B02682\", \"B02512\", \"B02764\", \"B02765\", \"B02617\", \"B02764\", \"B02512\", \"B02682\", \"B02598\", \"B02765\", \"B02617\", \"B02617\", \"B02764\", \"B02512\", \"B02598\", \"B02682\", \"B02765\", \"B02598\", \"B02512\", \"B02765\", \"B02764\", \"B02617\", \"B02682\", \"B02598\", \"B02764\", \"B02512\", \"B02617\", \"B02682\", \"B02765\", \"B02512\", \"B02764\", \"B02765\", \"B02598\", \"B02682\", \"B02617\", \"B02617\", \"B02598\", \"B02765\", \"B02764\", \"B02682\", \"B02512\", \"B02682\", \"B02765\", \"B02617\", \"B02598\", \"B02512\", \"B02764\", \"B02764\", \"B02682\", \"B02765\", \"B02617\", \"B02598\", \"B02512\", \"B02617\", \"B02764\", \"B02682\", \"B02765\", \"B02512\", \"B02598\", \"B02512\", \"B02617\", \"B02682\", \"B02764\", \"B02765\", \"B02598\", \"B02765\", \"B02512\", \"B02617\", \"B02682\", \"B02764\", \"B02598\", \"B02598\", \"B02682\", \"B02512\", \"B02765\", \"B02617\", \"B02764\", \"B02617\", \"B02682\", \"B02765\", \"B02598\", \"B02764\", \"B02512\", \"B02765\", \"B02598\", \"B02512\", \"B02764\", \"B02617\", \"B02682\", \"B02764\", \"B02765\", \"B02512\", \"B02682\", \"B02617\", \"B02598\", \"B02617\", \"B02682\", \"B02598\", \"B02512\", \"B02765\", \"B02764\", \"B02617\", \"B02765\", \"B02598\", \"B02512\", \"B02764\", \"B02682\", \"B02598\", \"B02512\", \"B02617\", \"B02682\", \"B02764\", \"B02765\", \"B02764\", \"B02765\", \"B02598\", \"B02617\", \"B02682\", \"B02512\", \"B02617\", \"B02682\", \"B02598\", \"B02764\", \"B02512\", \"B02765\", \"B02764\", \"B02512\", \"B02617\", \"B02765\", \"B02682\", \"B02598\", \"B02617\", \"B02764\", \"B02512\", \"B02598\", \"B02765\", \"B02682\", \"B02617\", \"B02512\", \"B02682\", \"B02765\", \"B02598\", \"B02764\", \"B02617\", \"B02682\", \"B02764\", \"B02765\", \"B02512\", \"B02598\", \"B02764\", \"B02512\", \"B02598\", \"B02765\", \"B02617\", \"B02682\", \"B02682\", \"B02764\", \"B02617\", \"B02765\", \"B02512\", \"B02598\", \"B02598\", \"B02512\", \"B02617\", \"B02764\", \"B02682\", \"B02765\", \"B02764\", \"B02512\", \"B02682\", \"B02617\", \"B02598\", \"B02765\", \"B02598\", \"B02682\", \"B02617\", \"B02765\", \"B02764\", \"B02512\", \"B02598\", \"B02512\", \"B02682\", \"B02764\", \"B02765\", \"B02617\", \"B02764\", \"B02617\", \"B02598\", \"B02682\", \"B02765\", \"B02512\", \"B02598\", \"B02682\", \"B02765\", \"B02617\", \"B02512\", \"B02764\", \"B02512\", \"B02617\", \"B02682\", \"B02764\", \"B02598\", \"B02765\", \"B02598\", \"B02617\", \"B02764\", \"B02682\", \"B02765\", \"B02512\", \"B02764\", \"B02512\", \"B02598\", \"B02682\", \"B02617\", \"B02765\", \"B02512\", \"B02598\", \"B02765\", \"B02682\", \"B02617\", \"B02764\", \"B02598\", \"B02617\", \"B02682\", \"B02512\", \"B02765\", \"B02764\", \"B02765\", \"B02617\", \"B02598\", \"B02512\", \"B02764\", \"B02682\", \"B02598\", \"B02764\", \"B02617\", \"B02682\", \"B02512\", \"B02765\"], \"xaxis\": \"x\", \"y\": [190, 225, 3427, 945, 1228, 870, 785, 1137, 175, 890, 196, 3147, 201, 1188, 818, 915, 173, 3215, 147, 812, 746, 183, 1088, 2862, 194, 951, 1218, 3387, 907, 227, 3473, 1022, 1336, 234, 218, 933, 1363, 1039, 3603, 248, 217, 974, 262, 1070, 238, 1135, 3831, 1463, 1455, 224, 3820, 1140, 1070, 280, 1057, 1331, 949, 206, 3558, 245, 220, 832, 943, 3186, 1228, 162, 3499, 279, 217, 964, 1082, 1323, 258, 975, 1342, 234, 3658, 1092, 3736, 271, 1030, 233, 1405, 1174, 237, 1208, 1457, 270, 3840, 1068, 1445, 290, 3975, 1250, 234, 1079, 974, 201, 1137, 252, 1306, 3657, 177, 869, 248, 3290, 1056, 1223, 883, 992, 238, 2958, 168, 706, 944, 1151, 221, 3654, 272, 1350, 3718, 242, 1228, 1035, 296, 1429, 1471, 3889, 246, 1071, 1295, 295, 1093, 246, 299, 4040, 1482, 1330, 945, 3652, 211, 1367, 1223, 245, 183, 3300, 226, 829, 1046, 1203, 1150, 860, 230, 3012, 1084, 197, 600, 135, 596, 434, 112, 1619, 3692, 1235, 286, 1356, 1011, 235, 1474, 3959, 1316, 295, 250, 1082, 256, 1501, 1384, 4124, 322, 1106, 309, 225, 1394, 1321, 3947, 1027, 961, 1214, 193, 289, 1355, 3740, 1217, 1152, 275, 939, 3270, 227, 299, 991, 257, 3674, 1350, 1269, 3856, 309, 244, 1311, 1393, 1072, 1524, 1418, 1179, 264, 355, 4093, 1526, 385, 1181, 261, 4170, 1414, 1031, 211, 1383, 1300, 3849, 345, 3422, 313, 923, 1256, 1136, 176, 1312, 1241, 976, 3543, 228, 388, 3700, 233, 1364, 422, 1281, 1029, 1450, 3849, 255, 1115, 450, 1396, 1532, 269, 1468, 536, 1181, 4137, 1590, 1523, 4395, 599, 281, 1216, 4129, 236, 1111, 583, 1486, 1428, 1261, 3651, 1293, 521, 210, 1003, 934, 207, 1214, 3524, 1164, 508, 3826, 241, 1314, 1378, 1066, 578, 1078, 1314, 1394, 586, 3842, 228, 1127, 250, 1428, 4110, 663, 1452, 4384, 1574, 1186, 1497, 736, 272, 1044, 1374, 685, 1443, 238, 3981, 199, 1248, 1220, 3478, 909, 566, 966, 1332, 3734, 1262, 665, 238, 3965, 247, 1061, 1346, 1456, 698, 246, 1076, 706, 1395, 1473, 3934, 1134, 1539, 1465, 243, 745, 4101, 786, 1551, 1114, 272, 4253, 1510, 994, 3952, 1372, 1386, 230, 747], \"yaxis\": \"y\"}],\n",
              "                        {\"barmode\": \"relative\", \"legend\": {\"tracegroupgap\": 0}, \"margin\": {\"t\": 60}, \"template\": {\"data\": {\"bar\": [{\"error_x\": {\"color\": \"#2a3f5f\"}, \"error_y\": {\"color\": \"#2a3f5f\"}, \"marker\": {\"line\": {\"color\": \"#E5ECF6\", \"width\": 0.5}}, \"type\": \"bar\"}], \"barpolar\": [{\"marker\": {\"line\": {\"color\": \"#E5ECF6\", \"width\": 0.5}}, \"type\": \"barpolar\"}], \"carpet\": [{\"aaxis\": {\"endlinecolor\": \"#2a3f5f\", \"gridcolor\": \"white\", \"linecolor\": \"white\", \"minorgridcolor\": \"white\", \"startlinecolor\": \"#2a3f5f\"}, \"baxis\": {\"endlinecolor\": \"#2a3f5f\", \"gridcolor\": \"white\", \"linecolor\": \"white\", \"minorgridcolor\": \"white\", \"startlinecolor\": \"#2a3f5f\"}, \"type\": \"carpet\"}], \"choropleth\": [{\"colorbar\": {\"outlinewidth\": 0, \"ticks\": \"\"}, \"type\": \"choropleth\"}], \"contour\": [{\"colorbar\": {\"outlinewidth\": 0, \"ticks\": \"\"}, \"colorscale\": [[0.0, \"#0d0887\"], [0.1111111111111111, \"#46039f\"], [0.2222222222222222, \"#7201a8\"], [0.3333333333333333, \"#9c179e\"], [0.4444444444444444, \"#bd3786\"], [0.5555555555555556, \"#d8576b\"], [0.6666666666666666, \"#ed7953\"], [0.7777777777777778, \"#fb9f3a\"], [0.8888888888888888, \"#fdca26\"], [1.0, \"#f0f921\"]], \"type\": \"contour\"}], \"contourcarpet\": [{\"colorbar\": {\"outlinewidth\": 0, \"ticks\": \"\"}, \"type\": \"contourcarpet\"}], \"heatmap\": [{\"colorbar\": {\"outlinewidth\": 0, \"ticks\": \"\"}, \"colorscale\": [[0.0, \"#0d0887\"], [0.1111111111111111, \"#46039f\"], [0.2222222222222222, \"#7201a8\"], [0.3333333333333333, \"#9c179e\"], [0.4444444444444444, \"#bd3786\"], [0.5555555555555556, \"#d8576b\"], [0.6666666666666666, \"#ed7953\"], [0.7777777777777778, \"#fb9f3a\"], [0.8888888888888888, \"#fdca26\"], [1.0, \"#f0f921\"]], \"type\": \"heatmap\"}], \"heatmapgl\": [{\"colorbar\": {\"outlinewidth\": 0, \"ticks\": \"\"}, \"colorscale\": [[0.0, \"#0d0887\"], [0.1111111111111111, \"#46039f\"], [0.2222222222222222, \"#7201a8\"], [0.3333333333333333, \"#9c179e\"], [0.4444444444444444, \"#bd3786\"], [0.5555555555555556, \"#d8576b\"], [0.6666666666666666, \"#ed7953\"], [0.7777777777777778, \"#fb9f3a\"], [0.8888888888888888, \"#fdca26\"], [1.0, \"#f0f921\"]], \"type\": \"heatmapgl\"}], \"histogram\": [{\"marker\": {\"colorbar\": {\"outlinewidth\": 0, \"ticks\": \"\"}}, \"type\": \"histogram\"}], \"histogram2d\": [{\"colorbar\": {\"outlinewidth\": 0, \"ticks\": \"\"}, \"colorscale\": [[0.0, \"#0d0887\"], [0.1111111111111111, \"#46039f\"], [0.2222222222222222, \"#7201a8\"], [0.3333333333333333, \"#9c179e\"], [0.4444444444444444, \"#bd3786\"], [0.5555555555555556, \"#d8576b\"], [0.6666666666666666, \"#ed7953\"], [0.7777777777777778, \"#fb9f3a\"], [0.8888888888888888, \"#fdca26\"], [1.0, \"#f0f921\"]], \"type\": \"histogram2d\"}], \"histogram2dcontour\": [{\"colorbar\": {\"outlinewidth\": 0, \"ticks\": \"\"}, \"colorscale\": [[0.0, \"#0d0887\"], [0.1111111111111111, \"#46039f\"], [0.2222222222222222, \"#7201a8\"], [0.3333333333333333, \"#9c179e\"], [0.4444444444444444, \"#bd3786\"], [0.5555555555555556, \"#d8576b\"], [0.6666666666666666, \"#ed7953\"], [0.7777777777777778, \"#fb9f3a\"], [0.8888888888888888, \"#fdca26\"], [1.0, \"#f0f921\"]], \"type\": \"histogram2dcontour\"}], \"mesh3d\": [{\"colorbar\": {\"outlinewidth\": 0, \"ticks\": \"\"}, \"type\": \"mesh3d\"}], \"parcoords\": [{\"line\": {\"colorbar\": {\"outlinewidth\": 0, \"ticks\": \"\"}}, \"type\": \"parcoords\"}], \"pie\": [{\"automargin\": true, \"type\": \"pie\"}], \"scatter\": [{\"marker\": {\"colorbar\": {\"outlinewidth\": 0, \"ticks\": \"\"}}, \"type\": \"scatter\"}], \"scatter3d\": [{\"line\": {\"colorbar\": {\"outlinewidth\": 0, \"ticks\": \"\"}}, \"marker\": {\"colorbar\": {\"outlinewidth\": 0, \"ticks\": \"\"}}, \"type\": \"scatter3d\"}], \"scattercarpet\": [{\"marker\": {\"colorbar\": {\"outlinewidth\": 0, \"ticks\": \"\"}}, \"type\": \"scattercarpet\"}], \"scattergeo\": [{\"marker\": {\"colorbar\": {\"outlinewidth\": 0, \"ticks\": \"\"}}, \"type\": \"scattergeo\"}], \"scattergl\": [{\"marker\": {\"colorbar\": {\"outlinewidth\": 0, \"ticks\": \"\"}}, \"type\": \"scattergl\"}], \"scattermapbox\": [{\"marker\": {\"colorbar\": {\"outlinewidth\": 0, \"ticks\": \"\"}}, \"type\": \"scattermapbox\"}], \"scatterpolar\": [{\"marker\": {\"colorbar\": {\"outlinewidth\": 0, \"ticks\": \"\"}}, \"type\": \"scatterpolar\"}], \"scatterpolargl\": [{\"marker\": {\"colorbar\": {\"outlinewidth\": 0, \"ticks\": \"\"}}, \"type\": \"scatterpolargl\"}], \"scatterternary\": [{\"marker\": {\"colorbar\": {\"outlinewidth\": 0, \"ticks\": \"\"}}, \"type\": \"scatterternary\"}], \"surface\": [{\"colorbar\": {\"outlinewidth\": 0, \"ticks\": \"\"}, \"colorscale\": [[0.0, \"#0d0887\"], [0.1111111111111111, \"#46039f\"], [0.2222222222222222, \"#7201a8\"], [0.3333333333333333, \"#9c179e\"], [0.4444444444444444, \"#bd3786\"], [0.5555555555555556, \"#d8576b\"], [0.6666666666666666, \"#ed7953\"], [0.7777777777777778, \"#fb9f3a\"], [0.8888888888888888, \"#fdca26\"], [1.0, \"#f0f921\"]], \"type\": \"surface\"}], \"table\": [{\"cells\": {\"fill\": {\"color\": \"#EBF0F8\"}, \"line\": {\"color\": \"white\"}}, \"header\": {\"fill\": {\"color\": \"#C8D4E3\"}, \"line\": {\"color\": \"white\"}}, \"type\": \"table\"}]}, \"layout\": {\"annotationdefaults\": {\"arrowcolor\": \"#2a3f5f\", \"arrowhead\": 0, \"arrowwidth\": 1}, \"coloraxis\": {\"colorbar\": {\"outlinewidth\": 0, \"ticks\": \"\"}}, \"colorscale\": {\"diverging\": [[0, \"#8e0152\"], [0.1, \"#c51b7d\"], [0.2, \"#de77ae\"], [0.3, \"#f1b6da\"], [0.4, \"#fde0ef\"], [0.5, \"#f7f7f7\"], [0.6, \"#e6f5d0\"], [0.7, \"#b8e186\"], [0.8, \"#7fbc41\"], [0.9, \"#4d9221\"], [1, \"#276419\"]], \"sequential\": [[0.0, \"#0d0887\"], [0.1111111111111111, \"#46039f\"], [0.2222222222222222, \"#7201a8\"], [0.3333333333333333, \"#9c179e\"], [0.4444444444444444, \"#bd3786\"], [0.5555555555555556, \"#d8576b\"], [0.6666666666666666, \"#ed7953\"], [0.7777777777777778, \"#fb9f3a\"], [0.8888888888888888, \"#fdca26\"], [1.0, \"#f0f921\"]], \"sequentialminus\": [[0.0, \"#0d0887\"], [0.1111111111111111, \"#46039f\"], [0.2222222222222222, \"#7201a8\"], [0.3333333333333333, \"#9c179e\"], [0.4444444444444444, \"#bd3786\"], [0.5555555555555556, \"#d8576b\"], [0.6666666666666666, \"#ed7953\"], [0.7777777777777778, \"#fb9f3a\"], [0.8888888888888888, \"#fdca26\"], [1.0, \"#f0f921\"]]}, \"colorway\": [\"#636efa\", \"#EF553B\", \"#00cc96\", \"#ab63fa\", \"#FFA15A\", \"#19d3f3\", \"#FF6692\", \"#B6E880\", \"#FF97FF\", \"#FECB52\"], \"font\": {\"color\": \"#2a3f5f\"}, \"geo\": {\"bgcolor\": \"white\", \"lakecolor\": \"white\", \"landcolor\": \"#E5ECF6\", \"showlakes\": true, \"showland\": true, \"subunitcolor\": \"white\"}, \"hoverlabel\": {\"align\": \"left\"}, \"hovermode\": \"closest\", \"mapbox\": {\"style\": \"light\"}, \"paper_bgcolor\": \"white\", \"plot_bgcolor\": \"#E5ECF6\", \"polar\": {\"angularaxis\": {\"gridcolor\": \"white\", \"linecolor\": \"white\", \"ticks\": \"\"}, \"bgcolor\": \"#E5ECF6\", \"radialaxis\": {\"gridcolor\": \"white\", \"linecolor\": \"white\", \"ticks\": \"\"}}, \"scene\": {\"xaxis\": {\"backgroundcolor\": \"#E5ECF6\", \"gridcolor\": \"white\", \"gridwidth\": 2, \"linecolor\": \"white\", \"showbackground\": true, \"ticks\": \"\", \"zerolinecolor\": \"white\"}, \"yaxis\": {\"backgroundcolor\": \"#E5ECF6\", \"gridcolor\": \"white\", \"gridwidth\": 2, \"linecolor\": \"white\", \"showbackground\": true, \"ticks\": \"\", \"zerolinecolor\": \"white\"}, \"zaxis\": {\"backgroundcolor\": \"#E5ECF6\", \"gridcolor\": \"white\", \"gridwidth\": 2, \"linecolor\": \"white\", \"showbackground\": true, \"ticks\": \"\", \"zerolinecolor\": \"white\"}}, \"shapedefaults\": {\"line\": {\"color\": \"#2a3f5f\"}}, \"ternary\": {\"aaxis\": {\"gridcolor\": \"white\", \"linecolor\": \"white\", \"ticks\": \"\"}, \"baxis\": {\"gridcolor\": \"white\", \"linecolor\": \"white\", \"ticks\": \"\"}, \"bgcolor\": \"#E5ECF6\", \"caxis\": {\"gridcolor\": \"white\", \"linecolor\": \"white\", \"ticks\": \"\"}}, \"title\": {\"x\": 0.05}, \"xaxis\": {\"automargin\": true, \"gridcolor\": \"white\", \"linecolor\": \"white\", \"ticks\": \"\", \"title\": {\"standoff\": 15}, \"zerolinecolor\": \"white\", \"zerolinewidth\": 2}, \"yaxis\": {\"automargin\": true, \"gridcolor\": \"white\", \"linecolor\": \"white\", \"ticks\": \"\", \"title\": {\"standoff\": 15}, \"zerolinecolor\": \"white\", \"zerolinewidth\": 2}}}, \"xaxis\": {\"anchor\": \"y\", \"domain\": [0.0, 1.0], \"title\": {\"text\": \"x\"}}, \"yaxis\": {\"anchor\": \"x\", \"domain\": [0.0, 1.0], \"title\": {\"text\": \"y\"}}},\n",
              "                        {\"responsive\": true}\n",
              "                    ).then(function(){\n",
              "                            \n",
              "var gd = document.getElementById('03f6c3cc-9acd-4d10-9717-eb0bae88d604');\n",
              "var x = new MutationObserver(function (mutations, observer) {{\n",
              "        var display = window.getComputedStyle(gd).display;\n",
              "        if (!display || display === 'none') {{\n",
              "            console.log([gd, 'removed!']);\n",
              "            Plotly.purge(gd);\n",
              "            observer.disconnect();\n",
              "        }}\n",
              "}});\n",
              "\n",
              "// Listen for the removal of the full notebook cells\n",
              "var notebookContainer = gd.closest('#notebook-container');\n",
              "if (notebookContainer) {{\n",
              "    x.observe(notebookContainer, {childList: true});\n",
              "}}\n",
              "\n",
              "// Listen for the clearing of the current output cell\n",
              "var outputEl = gd.closest('.output');\n",
              "if (outputEl) {{\n",
              "    x.observe(outputEl, {childList: true});\n",
              "}}\n",
              "\n",
              "                        })\n",
              "                };\n",
              "                \n",
              "            </script>\n",
              "        </div>\n",
              "</body>\n",
              "</html>"
            ]
          },
          "metadata": {}
        }
      ]
    },
    {
      "cell_type": "code",
      "metadata": {
        "colab": {
          "base_uri": "https://localhost:8080/",
          "height": 298
        },
        "id": "1o5jLG9oSRzM",
        "outputId": "af36536c-2e3e-4db7-d0f2-3789178bcd01"
      },
      "source": [
        "sns.boxplot(x='dispatching_base_number', y= 'active_vehicles', data= df_foil)"
      ],
      "execution_count": 40,
      "outputs": [
        {
          "output_type": "execute_result",
          "data": {
            "text/plain": [
              "<matplotlib.axes._subplots.AxesSubplot at 0x7f0cfeb034d0>"
            ]
          },
          "metadata": {},
          "execution_count": 40
        },
        {
          "output_type": "display_data",
          "data": {
            "image/png": "[encoded data removed]",
            "text/plain": [
              "<Figure size 432x288 with 1 Axes>"
            ]
          },
          "metadata": {
            "needs_background": "light"
          }
        }
      ]
    },
    {
      "cell_type": "markdown",
      "metadata": {
        "id": "T5FDK4AGTb6p"
      },
      "source": [
        "**5.2 Analysis base number VS trips**"
      ]
    },
    {
      "cell_type": "code",
      "metadata": {
        "colab": {
          "base_uri": "https://localhost:8080/",
          "height": 298
        },
        "id": "5FO_9Qr8Tpyb",
        "outputId": "534ccb8a-a389-4465-f661-522abfb499c8"
      },
      "source": [
        "sns.boxplot(x= 'dispatching_base_number', y= 'trips', data= df_foil)"
      ],
      "execution_count": 41,
      "outputs": [
        {
          "output_type": "execute_result",
          "data": {
            "text/plain": [
              "<matplotlib.axes._subplots.AxesSubplot at 0x7f0d190359d0>"
            ]
          },
          "metadata": {},
          "execution_count": 41
        },
        {
          "output_type": "display_data",
          "data": {
            "image/png": "[encoded data removed]",
            "text/plain": [
              "<Figure size 432x288 with 1 Axes>"
            ]
          },
          "metadata": {
            "needs_background": "light"
          }
        }
      ]
    },
    {
      "cell_type": "code",
      "metadata": {
        "colab": {
          "base_uri": "https://localhost:8080/",
          "height": 423
        },
        "id": "G8nyiQ5PVMdh",
        "outputId": "c1cd6b51-0dbe-4148-d752-028aa9a33ed8"
      },
      "source": [
        "df_foil['Trips/Active Vehicles'] = df_foil['trips'] / df_foil['active_vehicles']\n",
        "df_foil"
      ],
      "execution_count": 47,
      "outputs": [
        {
          "output_type": "execute_result",
          "data": {
            "text/html": [
              "<div>\n",
              "<style scoped>\n",
              "    .dataframe tbody tr th:only-of-type {\n",
              "        vertical-align: middle;\n",
              "    }\n",
              "\n",
              "    .dataframe tbody tr th {\n",
              "        vertical-align: top;\n",
              "    }\n",
              "\n",
              "    .dataframe thead th {\n",
              "        text-align: right;\n",
              "    }\n",
              "</style>\n",
              "<table border=\"1\" class=\"dataframe\">\n",
              "  <thead>\n",
              "    <tr style=\"text-align: right;\">\n",
              "      <th></th>\n",
              "      <th>dispatching_base_number</th>\n",
              "      <th>date</th>\n",
              "      <th>active_vehicles</th>\n",
              "      <th>trips</th>\n",
              "      <th>Trips/Active Vehicles</th>\n",
              "    </tr>\n",
              "  </thead>\n",
              "  <tbody>\n",
              "    <tr>\n",
              "      <th>0</th>\n",
              "      <td>B02512</td>\n",
              "      <td>1/1/2015</td>\n",
              "      <td>190</td>\n",
              "      <td>1132</td>\n",
              "      <td>5.957895</td>\n",
              "    </tr>\n",
              "    <tr>\n",
              "      <th>1</th>\n",
              "      <td>B02765</td>\n",
              "      <td>1/1/2015</td>\n",
              "      <td>225</td>\n",
              "      <td>1765</td>\n",
              "      <td>7.844444</td>\n",
              "    </tr>\n",
              "    <tr>\n",
              "      <th>2</th>\n",
              "      <td>B02764</td>\n",
              "      <td>1/1/2015</td>\n",
              "      <td>3427</td>\n",
              "      <td>29421</td>\n",
              "      <td>8.585060</td>\n",
              "    </tr>\n",
              "    <tr>\n",
              "      <th>3</th>\n",
              "      <td>B02682</td>\n",
              "      <td>1/1/2015</td>\n",
              "      <td>945</td>\n",
              "      <td>7679</td>\n",
              "      <td>8.125926</td>\n",
              "    </tr>\n",
              "    <tr>\n",
              "      <th>4</th>\n",
              "      <td>B02617</td>\n",
              "      <td>1/1/2015</td>\n",
              "      <td>1228</td>\n",
              "      <td>9537</td>\n",
              "      <td>7.766287</td>\n",
              "    </tr>\n",
              "    <tr>\n",
              "      <th>...</th>\n",
              "      <td>...</td>\n",
              "      <td>...</td>\n",
              "      <td>...</td>\n",
              "      <td>...</td>\n",
              "      <td>...</td>\n",
              "    </tr>\n",
              "    <tr>\n",
              "      <th>349</th>\n",
              "      <td>B02764</td>\n",
              "      <td>2/28/2015</td>\n",
              "      <td>3952</td>\n",
              "      <td>39812</td>\n",
              "      <td>10.073887</td>\n",
              "    </tr>\n",
              "    <tr>\n",
              "      <th>350</th>\n",
              "      <td>B02617</td>\n",
              "      <td>2/28/2015</td>\n",
              "      <td>1372</td>\n",
              "      <td>14022</td>\n",
              "      <td>10.220117</td>\n",
              "    </tr>\n",
              "    <tr>\n",
              "      <th>351</th>\n",
              "      <td>B02682</td>\n",
              "      <td>2/28/2015</td>\n",
              "      <td>1386</td>\n",
              "      <td>14472</td>\n",
              "      <td>10.441558</td>\n",
              "    </tr>\n",
              "    <tr>\n",
              "      <th>352</th>\n",
              "      <td>B02512</td>\n",
              "      <td>2/28/2015</td>\n",
              "      <td>230</td>\n",
              "      <td>1803</td>\n",
              "      <td>7.839130</td>\n",
              "    </tr>\n",
              "    <tr>\n",
              "      <th>353</th>\n",
              "      <td>B02765</td>\n",
              "      <td>2/28/2015</td>\n",
              "      <td>747</td>\n",
              "      <td>7753</td>\n",
              "      <td>10.378849</td>\n",
              "    </tr>\n",
              "  </tbody>\n",
              "</table>\n",
              "<p>354 rows × 5 columns</p>\n",
              "</div>"
            ],
            "text/plain": [
              "    dispatching_base_number       date  ...  trips  Trips/Active Vehicles\n",
              "0                    B02512   1/1/2015  ...   1132               5.957895\n",
              "1                    B02765   1/1/2015  ...   1765               7.844444\n",
              "2                    B02764   1/1/2015  ...  29421               8.585060\n",
              "3                    B02682   1/1/2015  ...   7679               8.125926\n",
              "4                    B02617   1/1/2015  ...   9537               7.766287\n",
              "..                      ...        ...  ...    ...                    ...\n",
              "349                  B02764  2/28/2015  ...  39812              10.073887\n",
              "350                  B02617  2/28/2015  ...  14022              10.220117\n",
              "351                  B02682  2/28/2015  ...  14472              10.441558\n",
              "352                  B02512  2/28/2015  ...   1803               7.839130\n",
              "353                  B02765  2/28/2015  ...   7753              10.378849\n",
              "\n",
              "[354 rows x 5 columns]"
            ]
          },
          "metadata": {},
          "execution_count": 47
        }
      ]
    },
    {
      "cell_type": "markdown",
      "metadata": {
        "id": "rBIiSpYbdvKZ"
      },
      "source": [
        "**5.3 Show Demand & Supply (Trips/Active Vehicles) based on date for each Base number**"
      ]
    },
    {
      "cell_type": "code",
      "metadata": {
        "colab": {
          "base_uri": "https://localhost:8080/",
          "height": 422
        },
        "id": "gLd4EiV7XrP9",
        "outputId": "d7c7f182-ba2d-4664-acda-d1de18c6db1c"
      },
      "source": [
        "plt.figure(figsize=(12,6))\n",
        "df_foil.set_index('date').groupby(['dispatching_base_number'])['Trips/Active Vehicles'].plot()\n",
        "plt.ylabel('Trips/Active Vehicles')\n",
        "plt.title('Demand & Supply')\n",
        "plt.legend()"
      ],
      "execution_count": 53,
      "outputs": [
        {
          "output_type": "execute_result",
          "data": {
            "text/plain": [
              "<matplotlib.legend.Legend at 0x7f0cfc615890>"
            ]
          },
          "metadata": {},
          "execution_count": 53
        },
        {
          "output_type": "display_data",
          "data": {
            "image/png": "[encoded data removed]",
            "text/plain": [
              "<Figure size 864x432 with 1 Axes>"
            ]
          },
          "metadata": {
            "needs_background": "light"
          }
        }
      ]
    }
  ]
}